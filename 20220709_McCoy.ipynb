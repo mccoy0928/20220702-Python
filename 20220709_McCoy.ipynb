{
  "nbformat": 4,
  "nbformat_minor": 0,
  "metadata": {
    "colab": {
      "name": "20220709_McCoy.ipynb",
      "provenance": [],
      "collapsed_sections": [],
      "authorship_tag": "ABX9TyNqclfn0OsRdTg47UjeniH4",
      "include_colab_link": true
    },
    "kernelspec": {
      "name": "python3",
      "display_name": "Python 3"
    },
    "language_info": {
      "name": "python"
    },
    "accelerator": "TPU",
    "gpuClass": "standard"
  },
  "cells": [
    {
      "cell_type": "markdown",
      "metadata": {
        "id": "view-in-github",
        "colab_type": "text"
      },
      "source": [
        "<a href=\"https://colab.research.google.com/github/mccoy0928/20220702-Python/blob/main/20220709_McCoy.ipynb\" target=\"_parent\"><img src=\"https://colab.research.google.com/assets/colab-badge.svg\" alt=\"Open In Colab\"/></a>"
      ]
    },
    {
      "cell_type": "markdown",
      "source": [
        "# 20220709 \n"
      ],
      "metadata": {
        "id": "x63mi-AAgMsm"
      }
    },
    {
      "cell_type": "markdown",
      "source": [
        "## 初學者需要知道的概念\n",
        "\n",
        "* 資料型態\n",
        " * int 整數\n",
        " * float 浮點\n",
        " * bool 布林\n",
        " * str 字串\n",
        "* 容器型別\n",
        " * list <==串列 [ ]\n",
        " * tuple <==元組 ( )\n",
        " * dict <==字典 { }\n",
        " * set <==集合{ }\n",
        "* 基礎語法\n",
        " * loops 迴圈\n",
        " * functions 函式\n",
        " * if statements 條件式\n",
        " * exception handling 例外處理\n"
      ],
      "metadata": {
        "id": "YN2iw0SOgWg6"
      }
    },
    {
      "cell_type": "markdown",
      "source": [
        "# eXtreme Programming\n",
        "\n",
        "**軟體開發的四個變因：**\n",
        "\n",
        "1. 成本 (Cost)\n",
        "\n",
        "2. 時間 (Time)\n",
        "\n",
        "3. 品質 (Quality)\n",
        "\n",
        "4. 範疇 (Scope)\n",
        "\n",
        "**eXtreme Programming的12個核心實踐方式：**\n",
        "\n",
        "1. The Planning Game\n",
        "\n",
        "**2. Small Release**\n",
        "\n",
        "3. System Metaphor\n",
        "\n",
        "4. Simple Design\n",
        "\n",
        "5. Continuous Testing\n",
        "\n",
        "6. Refactoring\n",
        "\n",
        "**7. Pair Programming**\n",
        "\n",
        "8. Collective Code Ownership\n",
        "\n",
        "9. Continuous Integration\n",
        "\n",
        "10. 40-hr Work Week\n",
        "\n",
        "11. On-Site Customer\n",
        "\n",
        "**12. Coding Standards**"
      ],
      "metadata": {
        "id": "noC00zAUjP7f"
      }
    },
    {
      "cell_type": "markdown",
      "source": [
        "# loops: for, while"
      ],
      "metadata": {
        "id": "fZ_ovDPLmhpZ"
      }
    },
    {
      "cell_type": "markdown",
      "source": [
        "## for loops\n",
        "## 基本語法\n",
        "~~~ python\n",
        "for 變數 in 資料結構:\n",
        "  程式區塊 (裡面可以使用上面的變數)\n",
        "~~~"
      ],
      "metadata": {
        "id": "j8hmtyJRmn7O"
      }
    },
    {
      "cell_type": "code",
      "execution_count": 4,
      "metadata": {
        "id": "_PV8OiKlfwSs",
        "colab": {
          "base_uri": "https://localhost:8080/"
        },
        "outputId": "3095f967-ac14-4339-cbea-577b1ce06d80"
      },
      "outputs": [
        {
          "output_type": "stream",
          "name": "stdout",
          "text": [
            "區塊開始\n",
            "0\n",
            "區塊開始\n",
            "1\n",
            "區塊開始\n",
            "2\n",
            "區塊結束\n"
          ]
        }
      ],
      "source": [
        "for i in range(3):\n",
        "  print(\"區塊開始\")\n",
        "  print(i)\n",
        "print(\"區塊結束\")"
      ]
    },
    {
      "cell_type": "code",
      "source": [
        "for i in range(3):\n",
        "  print(\"區塊開始\")\n",
        "  print(i)\n",
        "  print(\"區塊結束\")"
      ],
      "metadata": {
        "colab": {
          "base_uri": "https://localhost:8080/"
        },
        "id": "bqusjegFn7kB",
        "outputId": "d456b77d-d654-4cb2-e8a8-8e6a9f1cfbca"
      },
      "execution_count": 5,
      "outputs": [
        {
          "output_type": "stream",
          "name": "stdout",
          "text": [
            "區塊開始\n",
            "0\n",
            "區塊結束\n",
            "區塊開始\n",
            "1\n",
            "區塊結束\n",
            "區塊開始\n",
            "2\n",
            "區塊結束\n"
          ]
        }
      ]
    },
    {
      "cell_type": "markdown",
      "source": [
        "## while loops\n",
        "## 基本語法\n",
        "~~~ python\n",
        "while 條件式:\n",
        "  程式區塊 \n",
        "~~~"
      ],
      "metadata": {
        "id": "_DwUJj3CoT3V"
      }
    },
    {
      "cell_type": "code",
      "source": [
        "x = 0\n",
        "while x < 10 :\n",
        "  print(x)\n",
        "  x += 1"
      ],
      "metadata": {
        "id": "puc-DXzRoskK"
      },
      "execution_count": null,
      "outputs": []
    },
    {
      "cell_type": "markdown",
      "source": [
        "## 寫一個九九乘法表\n",
        "### 可以用for迴圈 或 while"
      ],
      "metadata": {
        "id": "_UbiP_HZpkWP"
      }
    },
    {
      "cell_type": "markdown",
      "source": [
        "## 方法一"
      ],
      "metadata": {
        "id": "RX-wQp1IuC33"
      }
    },
    {
      "cell_type": "code",
      "source": [
        "for i in range(2,10):\n",
        "  for j in range(1,10):\n",
        "    print(i,\"*\",j,\"=\",i*j)"
      ],
      "metadata": {
        "id": "n8Vs6HHdp4eS"
      },
      "execution_count": null,
      "outputs": []
    },
    {
      "cell_type": "markdown",
      "source": [
        "## 方法二"
      ],
      "metadata": {
        "id": "vF_fzA5xt70k"
      }
    },
    {
      "cell_type": "code",
      "source": [
        "i = 2\n",
        "while i <10:\n",
        "  j=2\n",
        "  while j <10:\n",
        "    print(i,\"*\",j,\"=\",i*j)\n",
        "    j+=1 \n",
        "  i+=1"
      ],
      "metadata": {
        "id": "z71YOq2IrJjd"
      },
      "execution_count": null,
      "outputs": []
    },
    {
      "cell_type": "markdown",
      "source": [
        "# 條件式 (if statements)"
      ],
      "metadata": {
        "id": "3Etfmk9-xwz0"
      }
    },
    {
      "cell_type": "markdown",
      "source": [
        "\n",
        "基本語法\n",
        "##語法一:\n",
        "~~~python\n",
        "if 條件式:\n",
        "  程式區塊\n",
        "~~~\n",
        "\n"
      ],
      "metadata": {
        "id": "uIirLKgouT-e"
      }
    },
    {
      "cell_type": "code",
      "source": [
        "a=3\n",
        "b=2\n",
        "if a > b:\n",
        "  print(\"a > b\")"
      ],
      "metadata": {
        "colab": {
          "base_uri": "https://localhost:8080/"
        },
        "id": "0sfqD15Sv7bM",
        "outputId": "9a2bab63-e0cb-4bef-ff45-d939b0f2db0a"
      },
      "execution_count": 14,
      "outputs": [
        {
          "output_type": "stream",
          "name": "stdout",
          "text": [
            "a > b\n"
          ]
        }
      ]
    },
    {
      "cell_type": "markdown",
      "source": [
        "##語法二:\n",
        "~~~python\n",
        "if 條件式1:\n",
        "  程式區塊1\n",
        "else:\n",
        "  程式區塊2\n",
        "~~~"
      ],
      "metadata": {
        "id": "jNo_X8Jkw8tO"
      }
    },
    {
      "cell_type": "code",
      "source": [
        "a=1\n",
        "b=2\n",
        "if a > b:\n",
        "  print(\"a > b\")\n",
        "else:\n",
        "  print(\"a < b\")"
      ],
      "metadata": {
        "colab": {
          "base_uri": "https://localhost:8080/"
        },
        "id": "vc0CsW_2wQRk",
        "outputId": "8d21b389-2a92-4844-87d8-3d05aa9b06fa"
      },
      "execution_count": 15,
      "outputs": [
        {
          "output_type": "stream",
          "name": "stdout",
          "text": [
            "a < b\n"
          ]
        }
      ]
    },
    {
      "cell_type": "markdown",
      "source": [
        "##語法三:\n",
        "~~~python\n",
        "if 條件式1:\n",
        "  程式區塊1\n",
        "elif 條件式2:\n",
        "  程式區塊2\n",
        "else:\n",
        "  程式區塊3\n",
        "~~~"
      ],
      "metadata": {
        "id": "g-bOwfhkxEXu"
      }
    },
    {
      "cell_type": "code",
      "source": [
        "a=3\n",
        "b=2\n",
        "if a > b:\n",
        "  print(\"a > b\")\n",
        "elif a == b:\n",
        "  print(\"a = b\")\n",
        "else:\n",
        "  print(\"a < b\")"
      ],
      "metadata": {
        "colab": {
          "base_uri": "https://localhost:8080/"
        },
        "id": "sofO9Gbdwcry",
        "outputId": "82439fc1-dcc0-4bdd-f77e-162bf0400f9c"
      },
      "execution_count": 18,
      "outputs": [
        {
          "output_type": "stream",
          "name": "stdout",
          "text": [
            "a > b\n"
          ]
        }
      ]
    },
    {
      "cell_type": "markdown",
      "source": [
        "## 請計算bmi 並判斷體位\n",
        "\n",
        "$$ bmi=\\frac{體重(公斤)}{身高(公尺)^2} $$ \n",
        "\n",
        "|條件|體位|\n",
        "|:-:|:-:|\n",
        "|<18|體重過輕|\n",
        "|18~24|健康體位|\n",
        "|>24|體位異常|\n",
        "\n"
      ],
      "metadata": {
        "id": "udrzQFN-yKwC"
      }
    },
    {
      "cell_type": "code",
      "source": [
        "weight = 70\n",
        "height = 1.68\n",
        "bmi=weight/(height**2)\n",
        "print(bmi)"
      ],
      "metadata": {
        "colab": {
          "base_uri": "https://localhost:8080/"
        },
        "id": "nosK7zrGzbky",
        "outputId": "71448d7b-aee4-403e-e4a0-aa4a2592be9e"
      },
      "execution_count": 30,
      "outputs": [
        {
          "output_type": "stream",
          "name": "stdout",
          "text": [
            "24.801587301587304\n"
          ]
        }
      ]
    },
    {
      "cell_type": "code",
      "source": [
        "light=\"體重過輕\"\n",
        "normal=\"健康體位\"\n",
        "heavy=\"體位異常\"\n",
        "\n",
        "if bmi <18:\n",
        "  print(light)\n",
        "elif bmi <24:\n",
        "  print(normal)\n",
        "else:\n",
        "  print(heavy)"
      ],
      "metadata": {
        "colab": {
          "base_uri": "https://localhost:8080/"
        },
        "id": "_BaZOstvzxow",
        "outputId": "3ef47702-6a9c-497b-b68d-c72be8a8ddc5"
      },
      "execution_count": 31,
      "outputs": [
        {
          "output_type": "stream",
          "name": "stdout",
          "text": [
            "健康體位\n"
          ]
        }
      ]
    },
    {
      "cell_type": "code",
      "source": [
        "def health(w, h):\n",
        "  pass"
      ],
      "metadata": {
        "id": "GjwZR0K51crt"
      },
      "execution_count": 32,
      "outputs": []
    },
    {
      "cell_type": "code",
      "source": [
        "def health(weight, height): # 變數可用中文\n",
        "  bmi=float(weight)/((float(height)/100)**2)\n",
        "  #print(bmi)  \n",
        "  light=\"體重過輕\"\n",
        "  normal=\"健康體位\"\n",
        "  heavy=\"體位異常\"\n",
        "\n",
        "  if bmi <18:\n",
        "    return light #print(light)\n",
        "  elif 18 <= bmi <=24:\n",
        "    return normal #print(normal)\n",
        "  else:\n",
        "    return heavy #print(heavy)"
      ],
      "metadata": {
        "id": "6EUW5xNk3alA"
      },
      "execution_count": 75,
      "outputs": []
    },
    {
      "cell_type": "code",
      "source": [
        "def health2(體重, 身高): # 變數可用中文\n",
        "  bmi=float(體重)/((float(身高)/100)**2)\n",
        "  #print(bmi)  \n",
        "  light=\"體重過輕\"\n",
        "  normal=\"健康體位\"\n",
        "  heavy=\"體位異常\"\n",
        "\n",
        "  if bmi <18:\n",
        "    return bmi, light #print(light)\n",
        "  elif 18 <= bmi <=24:\n",
        "    return bmi, normal #print(normal)\n",
        "  else:\n",
        "    return bmi, heavy #print(heavy)"
      ],
      "metadata": {
        "id": "VYXgqWKmGBsN"
      },
      "execution_count": 79,
      "outputs": []
    },
    {
      "cell_type": "code",
      "source": [
        "health(67, 1.68)"
      ],
      "metadata": {
        "colab": {
          "base_uri": "https://localhost:8080/",
          "height": 36
        },
        "id": "vQM4aFI13p7V",
        "outputId": "591240bb-93d6-4445-8e8c-bc6eec06f220"
      },
      "execution_count": 55,
      "outputs": [
        {
          "output_type": "execute_result",
          "data": {
            "text/plain": [
              "'健康體位'"
            ],
            "application/vnd.google.colaboratory.intrinsic+json": {
              "type": "string"
            }
          },
          "metadata": {},
          "execution_count": 55
        }
      ]
    },
    {
      "cell_type": "code",
      "source": [
        "weight = input(\"請輸入體重(公斤): \") #輸入資料均為\"字串\"\n",
        "height = input(\"請輸入身高(CM): \")\n",
        "health(float(weight), float(height)/100) #資料轉型"
      ],
      "metadata": {
        "colab": {
          "base_uri": "https://localhost:8080/",
          "height": 72
        },
        "id": "IVW4zsJw7Kor",
        "outputId": "53b24148-6397-4cd9-e243-b43126b7820e"
      },
      "execution_count": 58,
      "outputs": [
        {
          "name": "stdout",
          "output_type": "stream",
          "text": [
            "請輸入體重(公斤): 66\n",
            "請輸入身高(CM): 170\n"
          ]
        },
        {
          "output_type": "execute_result",
          "data": {
            "text/plain": [
              "'健康體位'"
            ],
            "application/vnd.google.colaboratory.intrinsic+json": {
              "type": "string"
            }
          },
          "metadata": {},
          "execution_count": 58
        }
      ]
    },
    {
      "cell_type": "markdown",
      "source": [
        "# Gradio https://gradio.app/ 使用簡介\n",
        "~~~\n",
        "!pip install gradio\n",
        "~~~\n",
        "\n",
        "\n",
        "\n"
      ],
      "metadata": {
        "id": "GwNxblo7_f90"
      }
    },
    {
      "cell_type": "code",
      "source": [
        "!pip install gradio"
      ],
      "metadata": {
        "id": "ygTS9PxQ_1KY"
      },
      "execution_count": null,
      "outputs": []
    },
    {
      "cell_type": "code",
      "source": [
        "import gradio as gr\n",
        "\n",
        "def greet(name):\n",
        "    return \"Hello \" + name + \"!!\""
      ],
      "metadata": {
        "id": "5xe2iwZTA5wE"
      },
      "execution_count": 62,
      "outputs": []
    },
    {
      "cell_type": "code",
      "source": [
        "demo = gr.Interface(fn=greet, inputs=\"text\", outputs=\"text\")\n",
        "\n",
        "demo.launch(share=True)"
      ],
      "metadata": {
        "id": "zxqo2SKpBA34"
      },
      "execution_count": null,
      "outputs": []
    },
    {
      "cell_type": "code",
      "source": [
        "gr.Interface(health2, [\"text\",\"text\"],[\"text\",\"text\"], title=\"判斷體位狀況\").launch(share=True)"
      ],
      "metadata": {
        "id": "7W5BrXI1CMIC"
      },
      "execution_count": null,
      "outputs": []
    },
    {
      "cell_type": "markdown",
      "source": [
        "#requests 用法\n"
      ],
      "metadata": {
        "id": "_ZczukDvvpV0"
      }
    },
    {
      "cell_type": "code",
      "source": [
        "import requests"
      ],
      "metadata": {
        "id": "5h2CoOQrG-WE"
      },
      "execution_count": 81,
      "outputs": []
    },
    {
      "cell_type": "code",
      "source": [
        "def look(myText):\n",
        "  url=\"https://www.moedict.tw/\"\n",
        "  r = requests.get(url)\n",
        "  print(r.text)\n",
        "  "
      ],
      "metadata": {
        "id": "A2tpaNIAHe-N"
      },
      "execution_count": 102,
      "outputs": []
    },
    {
      "cell_type": "code",
      "source": [
        ""
      ],
      "metadata": {
        "id": "3OcV4rXGgHOh"
      },
      "execution_count": null,
      "outputs": []
    },
    {
      "cell_type": "markdown",
      "source": [
        ""
      ],
      "metadata": {
        "id": "CpcoAiZ4V6gY"
      }
    },
    {
      "cell_type": "markdown",
      "source": [
        "# 爬蟲簡介\n"
      ],
      "metadata": {
        "id": "ZtqFh7jraotG"
      }
    },
    {
      "cell_type": "code",
      "source": [
        "import requests"
      ],
      "metadata": {
        "id": "8HzNcMyOfSmJ"
      },
      "execution_count": 98,
      "outputs": []
    },
    {
      "cell_type": "code",
      "source": [
        "url = \"https://victorgau.github.io/khpy_web_intro/html_only.html\""
      ],
      "metadata": {
        "id": "d2v5LUeEfonZ"
      },
      "execution_count": 99,
      "outputs": []
    },
    {
      "cell_type": "code",
      "source": [
        "r = requests.get(url)"
      ],
      "metadata": {
        "id": "D11GbRPQfuv9"
      },
      "execution_count": 100,
      "outputs": []
    },
    {
      "cell_type": "code",
      "source": [
        "print(r.text)"
      ],
      "metadata": {
        "id": "rViKyDHNf4oz"
      },
      "execution_count": null,
      "outputs": []
    },
    {
      "cell_type": "code",
      "source": [
        "f = open(\"index.html\", \"w\") ##建立寫入檔案\n",
        "f.write(r.text)\n",
        "f.close()  ##記得要關檔close"
      ],
      "metadata": {
        "id": "aY3fQxT2huV6"
      },
      "execution_count": 105,
      "outputs": []
    },
    {
      "cell_type": "code",
      "source": [
        "type(r)"
      ],
      "metadata": {
        "colab": {
          "base_uri": "https://localhost:8080/"
        },
        "id": "YtFxViOygdav",
        "outputId": "e766b10b-ebf1-4181-db59-9cdbf8c96c3e"
      },
      "execution_count": 103,
      "outputs": [
        {
          "output_type": "execute_result",
          "data": {
            "text/plain": [
              "requests.models.Response"
            ]
          },
          "metadata": {},
          "execution_count": 103
        }
      ]
    },
    {
      "cell_type": "code",
      "source": [
        "r.request.headers"
      ],
      "metadata": {
        "id": "Nwz11kWhhUa-"
      },
      "execution_count": null,
      "outputs": []
    },
    {
      "cell_type": "markdown",
      "source": [
        "#web api"
      ],
      "metadata": {
        "id": "c-YTV5qQlB3M"
      }
    },
    {
      "cell_type": "markdown",
      "source": [
        "## json vs dict/list 差別"
      ],
      "metadata": {
        "id": "wM7Ey8vQlsiV"
      }
    },
    {
      "cell_type": "code",
      "source": [
        "d = {}"
      ],
      "metadata": {
        "id": "lURJqLN8l0dO"
      },
      "execution_count": 106,
      "outputs": []
    },
    {
      "cell_type": "code",
      "source": [
        "d[\"cat\"]=\"貓咪\""
      ],
      "metadata": {
        "id": "Cd076LEUl-fM"
      },
      "execution_count": 107,
      "outputs": []
    },
    {
      "cell_type": "code",
      "source": [
        "d[\"dog\"]=\"狗狗\""
      ],
      "metadata": {
        "id": "VPzf8vC3mD5v"
      },
      "execution_count": 108,
      "outputs": []
    },
    {
      "cell_type": "code",
      "source": [
        "d"
      ],
      "metadata": {
        "colab": {
          "base_uri": "https://localhost:8080/"
        },
        "id": "7vTKCAj_mSIU",
        "outputId": "9390b9f3-5e8c-4c82-b98b-5f866a5748a5"
      },
      "execution_count": 109,
      "outputs": [
        {
          "output_type": "execute_result",
          "data": {
            "text/plain": [
              "{'cat': '貓咪', 'dog': '狗狗'}"
            ]
          },
          "metadata": {},
          "execution_count": 109
        }
      ]
    },
    {
      "cell_type": "code",
      "source": [
        "type(d)"
      ],
      "metadata": {
        "colab": {
          "base_uri": "https://localhost:8080/"
        },
        "id": "EzpTNsBwmfrp",
        "outputId": "a3838e14-f1df-47cd-dcf3-73ae34ebfed9"
      },
      "execution_count": 110,
      "outputs": [
        {
          "output_type": "execute_result",
          "data": {
            "text/plain": [
              "dict"
            ]
          },
          "metadata": {},
          "execution_count": 110
        }
      ]
    },
    {
      "cell_type": "code",
      "source": [
        "e = \"{'cat': '貓咪', 'dog': '狗狗'}\" ## json格式看似字典實際是\"字串\""
      ],
      "metadata": {
        "id": "ILlJCxP0mijC"
      },
      "execution_count": 111,
      "outputs": []
    },
    {
      "cell_type": "code",
      "source": [
        "e ='{\"cat\": \"貓咪\", \"dog\": \"狗狗\"}' #標準json格式內容"
      ],
      "metadata": {
        "id": "1LMSiEeyncWT"
      },
      "execution_count": 114,
      "outputs": []
    },
    {
      "cell_type": "code",
      "source": [
        "type(e)"
      ],
      "metadata": {
        "colab": {
          "base_uri": "https://localhost:8080/"
        },
        "id": "uL8xAbeVmm-X",
        "outputId": "952aa387-3b9a-473a-8ae9-976ae369531d"
      },
      "execution_count": 112,
      "outputs": [
        {
          "output_type": "execute_result",
          "data": {
            "text/plain": [
              "str"
            ]
          },
          "metadata": {},
          "execution_count": 112
        }
      ]
    },
    {
      "cell_type": "code",
      "source": [
        "import json"
      ],
      "metadata": {
        "id": "VKo30n6_mq2q"
      },
      "execution_count": 113,
      "outputs": []
    },
    {
      "cell_type": "code",
      "source": [
        "f = json.loads(e)"
      ],
      "metadata": {
        "id": "CyuC9XBqm8QQ"
      },
      "execution_count": 115,
      "outputs": []
    },
    {
      "cell_type": "code",
      "source": [
        "f"
      ],
      "metadata": {
        "colab": {
          "base_uri": "https://localhost:8080/"
        },
        "id": "kn-FVyBnns96",
        "outputId": "c0f23997-e946-449f-843b-e340165a09a9"
      },
      "execution_count": 116,
      "outputs": [
        {
          "output_type": "execute_result",
          "data": {
            "text/plain": [
              "{'cat': '貓咪', 'dog': '狗狗'}"
            ]
          },
          "metadata": {},
          "execution_count": 116
        }
      ]
    },
    {
      "cell_type": "code",
      "source": [
        "type(f)"
      ],
      "metadata": {
        "colab": {
          "base_uri": "https://localhost:8080/"
        },
        "id": "zoinKelxnw6u",
        "outputId": "5b393134-fef6-4165-8ada-c6b66a68dbdc"
      },
      "execution_count": 117,
      "outputs": [
        {
          "output_type": "execute_result",
          "data": {
            "text/plain": [
              "dict"
            ]
          },
          "metadata": {},
          "execution_count": 117
        }
      ]
    },
    {
      "cell_type": "markdown",
      "source": [
        "## 使用萌典API"
      ],
      "metadata": {
        "id": "ncCf1oB_oZUi"
      }
    },
    {
      "cell_type": "code",
      "source": [
        "url=\"https://www.moedict.tw/uni/\""
      ],
      "metadata": {
        "id": "ZQgaaxonoeyK"
      },
      "execution_count": 118,
      "outputs": []
    },
    {
      "cell_type": "code",
      "source": [
        "q = \"教室\""
      ],
      "metadata": {
        "id": "02dHWzQ3oxtS"
      },
      "execution_count": 119,
      "outputs": []
    },
    {
      "cell_type": "code",
      "source": [
        "url+q"
      ],
      "metadata": {
        "colab": {
          "base_uri": "https://localhost:8080/",
          "height": 36
        },
        "id": "aBid4V3Bo2D4",
        "outputId": "fa789e0f-7457-4029-8e93-82ba16247e33"
      },
      "execution_count": 120,
      "outputs": [
        {
          "output_type": "execute_result",
          "data": {
            "text/plain": [
              "'https://www.moedict.tw/uni/教室'"
            ],
            "application/vnd.google.colaboratory.intrinsic+json": {
              "type": "string"
            }
          },
          "metadata": {},
          "execution_count": 120
        }
      ]
    },
    {
      "cell_type": "code",
      "source": [
        "r=requests.get(url+q)"
      ],
      "metadata": {
        "id": "Dn_p0VAko70I"
      },
      "execution_count": 121,
      "outputs": []
    },
    {
      "cell_type": "code",
      "source": [
        "print(r.text) ## 從萌典取得json資料"
      ],
      "metadata": {
        "colab": {
          "base_uri": "https://localhost:8080/"
        },
        "id": "SCL5vaGTpAlf",
        "outputId": "398aca8f-c313-4c89-8b64-dba3d9a8d116"
      },
      "execution_count": 122,
      "outputs": [
        {
          "output_type": "stream",
          "name": "stdout",
          "text": [
            "\t{\n",
            "\t\t\"heteronyms\": [\n",
            "\t\t\t{\n",
            "\t\t\t\t\"bopomofo\": \"ㄐㄧㄠˋ ㄕˋ\",\n",
            "\t\t\t\t\"bopomofo2\": \"jiàu shr̀\",\n",
            "\t\t\t\t\"definitions\": [\n",
            "\t\t\t\t\t{\n",
            "\t\t\t\t\t\t\"def\": \"學校裡進行教學活動的房間。\",\n",
            "\t\t\t\t\t\t\"example\": [\n",
            "\t\t\t\t\t\t\t\"如：「實驗教室」、「音樂教室」。\"\n",
            "\t\t\t\t\t\t],\n",
            "\t\t\t\t\t\t\"synonyms\": \"課堂,講堂\"\n",
            "\t\t\t\t\t}\n",
            "\t\t\t\t],\n",
            "\t\t\t\t\"pinyin\": \"jiào shì\"\n",
            "\t\t\t}\n",
            "\t\t],\n",
            "\t\t\"title\": \"教室\"\n",
            "\t}\n"
          ]
        }
      ]
    },
    {
      "cell_type": "code",
      "source": [
        "data=json.loads(r.text)"
      ],
      "metadata": {
        "id": "tB7Bxm27pRsM"
      },
      "execution_count": 125,
      "outputs": []
    },
    {
      "cell_type": "code",
      "source": [
        "print(data)"
      ],
      "metadata": {
        "colab": {
          "base_uri": "https://localhost:8080/"
        },
        "id": "A9xjW4BKpgFX",
        "outputId": "b721dc08-a8b4-4217-e663-be4a2d129a10"
      },
      "execution_count": 126,
      "outputs": [
        {
          "output_type": "stream",
          "name": "stdout",
          "text": [
            "{'heteronyms': [{'bopomofo': 'ㄐㄧㄠˋ ㄕˋ', 'bopomofo2': 'jiàu shr̀', 'definitions': [{'def': '學校裡進行教學活動的房間。', 'example': ['如：「實驗教室」、「音樂教室」。'], 'synonyms': '課堂,講堂'}], 'pinyin': 'jiào shì'}], 'title': '教室'}\n"
          ]
        }
      ]
    },
    {
      "cell_type": "code",
      "source": [
        "data.keys()"
      ],
      "metadata": {
        "colab": {
          "base_uri": "https://localhost:8080/"
        },
        "id": "4yt_2zoZp5_S",
        "outputId": "0121548f-fdd6-4d62-f7be-29b4c9ffb2c0"
      },
      "execution_count": 131,
      "outputs": [
        {
          "output_type": "execute_result",
          "data": {
            "text/plain": [
              "dict_keys(['heteronyms', 'title'])"
            ]
          },
          "metadata": {},
          "execution_count": 131
        }
      ]
    },
    {
      "cell_type": "code",
      "source": [
        "data['heteronyms']"
      ],
      "metadata": {
        "colab": {
          "base_uri": "https://localhost:8080/"
        },
        "id": "w10Yg3HFqe-F",
        "outputId": "84546689-c7bd-4825-80c8-b9dcb63fbd5e"
      },
      "execution_count": 132,
      "outputs": [
        {
          "output_type": "execute_result",
          "data": {
            "text/plain": [
              "[{'bopomofo': 'ㄐㄧㄠˋ ㄕˋ',\n",
              "  'bopomofo2': 'jiàu shr̀',\n",
              "  'definitions': [{'def': '學校裡進行教學活動的房間。',\n",
              "    'example': ['如：「實驗教室」、「音樂教室」。'],\n",
              "    'synonyms': '課堂,講堂'}],\n",
              "  'pinyin': 'jiào shì'}]"
            ]
          },
          "metadata": {},
          "execution_count": 132
        }
      ]
    },
    {
      "cell_type": "code",
      "source": [
        "data['heteronyms'][0]"
      ],
      "metadata": {
        "colab": {
          "base_uri": "https://localhost:8080/"
        },
        "id": "cJon0FpOqpbA",
        "outputId": "7597dab9-7f0b-46d6-bd3f-729111def776"
      },
      "execution_count": 133,
      "outputs": [
        {
          "output_type": "execute_result",
          "data": {
            "text/plain": [
              "{'bopomofo': 'ㄐㄧㄠˋ ㄕˋ',\n",
              " 'bopomofo2': 'jiàu shr̀',\n",
              " 'definitions': [{'def': '學校裡進行教學活動的房間。',\n",
              "   'example': ['如：「實驗教室」、「音樂教室」。'],\n",
              "   'synonyms': '課堂,講堂'}],\n",
              " 'pinyin': 'jiào shì'}"
            ]
          },
          "metadata": {},
          "execution_count": 133
        }
      ]
    },
    {
      "cell_type": "code",
      "source": [
        "data['heteronyms'][0]['definitions']"
      ],
      "metadata": {
        "colab": {
          "base_uri": "https://localhost:8080/"
        },
        "id": "ADYm3mu7quYI",
        "outputId": "4a97db18-5622-4337-dcee-68c08775e466"
      },
      "execution_count": 134,
      "outputs": [
        {
          "output_type": "execute_result",
          "data": {
            "text/plain": [
              "[{'def': '學校裡進行教學活動的房間。',\n",
              "  'example': ['如：「實驗教室」、「音樂教室」。'],\n",
              "  'synonyms': '課堂,講堂'}]"
            ]
          },
          "metadata": {},
          "execution_count": 134
        }
      ]
    },
    {
      "cell_type": "code",
      "source": [
        "data['heteronyms'][0]['definitions'][0]"
      ],
      "metadata": {
        "colab": {
          "base_uri": "https://localhost:8080/"
        },
        "id": "Wbvb8EX1q43R",
        "outputId": "6e542945-1da4-4cee-858f-7881c29691e1"
      },
      "execution_count": 135,
      "outputs": [
        {
          "output_type": "execute_result",
          "data": {
            "text/plain": [
              "{'def': '學校裡進行教學活動的房間。', 'example': ['如：「實驗教室」、「音樂教室」。'], 'synonyms': '課堂,講堂'}"
            ]
          },
          "metadata": {},
          "execution_count": 135
        }
      ]
    },
    {
      "cell_type": "code",
      "source": [
        "data['heteronyms'][0]['definitions'][0]['def']"
      ],
      "metadata": {
        "colab": {
          "base_uri": "https://localhost:8080/",
          "height": 36
        },
        "id": "UQQ0zAn5q9pF",
        "outputId": "ee9a16be-8ccd-4069-e634-6f6a4a2e2f62"
      },
      "execution_count": 136,
      "outputs": [
        {
          "output_type": "execute_result",
          "data": {
            "text/plain": [
              "'學校裡進行教學活動的房間。'"
            ],
            "application/vnd.google.colaboratory.intrinsic+json": {
              "type": "string"
            }
          },
          "metadata": {},
          "execution_count": 136
        }
      ]
    },
    {
      "cell_type": "code",
      "source": [
        "data=requests.get(url+\"森林\").json()"
      ],
      "metadata": {
        "id": "VzKOrhZgrPop"
      },
      "execution_count": 137,
      "outputs": []
    },
    {
      "cell_type": "code",
      "source": [
        "data['heteronyms'][0]['definitions'][0]['def'] #萌典中文解釋概要"
      ],
      "metadata": {
        "colab": {
          "base_uri": "https://localhost:8080/",
          "height": 36
        },
        "id": "Fff46wVbrgrU",
        "outputId": "9ba6fa1c-4be1-48e6-ce43-0c16c84223d1"
      },
      "execution_count": 138,
      "outputs": [
        {
          "output_type": "execute_result",
          "data": {
            "text/plain": [
              "'樹木密生的寬廣地區。'"
            ],
            "application/vnd.google.colaboratory.intrinsic+json": {
              "type": "string"
            }
          },
          "metadata": {},
          "execution_count": 138
        }
      ]
    },
    {
      "cell_type": "code",
      "source": [
        "def words(myTxt): \n",
        "  data=requests.get(url+myTxt).json()\n",
        "  return data['heteronyms'][0]['definitions'][0]['def']"
      ],
      "metadata": {
        "id": "eEpKwr7pro49"
      },
      "execution_count": 139,
      "outputs": []
    },
    {
      "cell_type": "code",
      "source": [
        "words(\"花園\")"
      ],
      "metadata": {
        "colab": {
          "base_uri": "https://localhost:8080/",
          "height": 36
        },
        "id": "m8r-Lmo1r7uT",
        "outputId": "f789464a-0f38-40ea-f4b0-b71bdb37acfb"
      },
      "execution_count": 144,
      "outputs": [
        {
          "output_type": "execute_result",
          "data": {
            "text/plain": [
              "'有花木亭池，可供遊憩的園子。'"
            ],
            "application/vnd.google.colaboratory.intrinsic+json": {
              "type": "string"
            }
          },
          "metadata": {},
          "execution_count": 144
        }
      ]
    },
    {
      "cell_type": "code",
      "source": [
        "gr.Interface(words, \"text\",\"text\", title=\"國語辭典\").launch(share=True)"
      ],
      "metadata": {
        "id": "kc0qQHWBtcKG"
      },
      "execution_count": null,
      "outputs": []
    },
    {
      "cell_type": "markdown",
      "source": [
        "#作業 寫一個漢英字典\n",
        " * api url=\"https://www.moedict.tw/a/xxxxx.json\""
      ],
      "metadata": {
        "id": "Q49ErJ4lwC5R"
      }
    },
    {
      "cell_type": "code",
      "source": [
        "url=\"https://www.moedict.tw/a/\"\n",
        "q=\"自行車\"\n",
        "data = requests.get(url+q+\".json\").json()"
      ],
      "metadata": {
        "id": "9Mhbf3MFwbxV"
      },
      "execution_count": 332,
      "outputs": []
    },
    {
      "cell_type": "code",
      "source": [
        "data.keys()"
      ],
      "metadata": {
        "colab": {
          "base_uri": "https://localhost:8080/"
        },
        "id": "9rv9FmV5w9tV",
        "outputId": "49e06726-6443-4ff9-8ee3-9f9dd9300238"
      },
      "execution_count": 333,
      "outputs": [
        {
          "output_type": "execute_result",
          "data": {
            "text/plain": [
              "dict_keys(['Deutsch', 'English', 'francais', 'h', 't', 'translation'])"
            ]
          },
          "metadata": {},
          "execution_count": 333
        }
      ]
    },
    {
      "cell_type": "code",
      "source": [
        "data\n",
        "type(data)"
      ],
      "metadata": {
        "colab": {
          "base_uri": "https://localhost:8080/"
        },
        "id": "_3Cow0cCxeL6",
        "outputId": "cf66de5b-1ff8-437f-c6b6-065e702b382a"
      },
      "execution_count": 335,
      "outputs": [
        {
          "output_type": "execute_result",
          "data": {
            "text/plain": [
              "dict"
            ]
          },
          "metadata": {},
          "execution_count": 335
        }
      ]
    },
    {
      "cell_type": "code",
      "source": [
        "data['English']"
      ],
      "metadata": {
        "colab": {
          "base_uri": "https://localhost:8080/",
          "height": 36
        },
        "id": "eoZdfrs2xQJ_",
        "outputId": "79ef2dcc-63d4-4ba7-d99d-cb136656abaf"
      },
      "execution_count": 156,
      "outputs": [
        {
          "output_type": "execute_result",
          "data": {
            "text/plain": [
              "'bicycle'"
            ],
            "application/vnd.google.colaboratory.intrinsic+json": {
              "type": "string"
            }
          },
          "metadata": {},
          "execution_count": 156
        }
      ]
    },
    {
      "cell_type": "code",
      "source": [
        "def chtoeng(words):\n",
        "  url=\"https://www.moedict.tw/a/\"\n",
        "\n",
        "  data = requests.get(url+words+\".json\").json()\n",
        "  return data['English']"
      ],
      "metadata": {
        "id": "grabVbQ-yhe7"
      },
      "execution_count": 184,
      "outputs": []
    },
    {
      "cell_type": "code",
      "source": [
        "chtoeng(\"學校\")"
      ],
      "metadata": {
        "colab": {
          "base_uri": "https://localhost:8080/",
          "height": 36
        },
        "id": "-M5t75nsy3ew",
        "outputId": "aa834356-e6db-44dc-bd75-85f9fa2c313d"
      },
      "execution_count": 158,
      "outputs": [
        {
          "output_type": "execute_result",
          "data": {
            "text/plain": [
              "'school'"
            ],
            "application/vnd.google.colaboratory.intrinsic+json": {
              "type": "string"
            }
          },
          "metadata": {},
          "execution_count": 158
        }
      ]
    },
    {
      "cell_type": "code",
      "source": [
        "gr.Interface(chtoeng, \"text\",\"text\", title=\"漢英字典\").launch(share=True)"
      ],
      "metadata": {
        "colab": {
          "base_uri": "https://localhost:8080/",
          "height": 647
        },
        "id": "dc5xUW4g_KxC",
        "outputId": "5ceda4f9-4e31-4450-f3bd-b44cabe41fe0"
      },
      "execution_count": 186,
      "outputs": [
        {
          "output_type": "stream",
          "name": "stdout",
          "text": [
            "Colab notebook detected. To show errors in colab notebook, set `debug=True` in `launch()`\n",
            "Running on public URL: https://56434.gradio.app\n",
            "\n",
            "This share link expires in 72 hours. For free permanent hosting, check out Spaces (https://huggingface.co/spaces)\n"
          ]
        },
        {
          "output_type": "display_data",
          "data": {
            "text/plain": [
              "<IPython.core.display.HTML object>"
            ],
            "text/html": [
              "<div><iframe src=\"https://56434.gradio.app\" width=\"900\" height=\"500\" allow=\"autoplay; camera; microphone;\" frameborder=\"0\" allowfullscreen></iframe></div>"
            ]
          },
          "metadata": {}
        },
        {
          "output_type": "execute_result",
          "data": {
            "text/plain": [
              "(<gradio.routes.App at 0x7f4254672850>,\n",
              " 'http://127.0.0.1:7871/',\n",
              " 'https://56434.gradio.app')"
            ]
          },
          "metadata": {},
          "execution_count": 186
        }
      ]
    },
    {
      "cell_type": "markdown",
      "source": [
        "#分析台北uBike站點\n",
        " * url=\"https://tcgbusfs.blob.core.windows.net/dotapp/youbike/v2/youbike_immediate.json\""
      ],
      "metadata": {
        "id": "I_mwhVDVzHUz"
      }
    },
    {
      "cell_type": "code",
      "source": [
        "url=\"https://tcgbusfs.blob.core.windows.net/dotapp/youbike/v2/youbike_immediate.json\"\n",
        "data = requests.get(url).json()\n"
      ],
      "metadata": {
        "id": "tv-ZV3U9z7yq"
      },
      "execution_count": 362,
      "outputs": []
    },
    {
      "cell_type": "code",
      "source": [
        "type(data)\n"
      ],
      "metadata": {
        "colab": {
          "base_uri": "https://localhost:8080/"
        },
        "id": "D8fl5eEi0YHu",
        "outputId": "a9296a4b-425e-4150-9781-52acc6cc2cb5"
      },
      "execution_count": 363,
      "outputs": [
        {
          "output_type": "execute_result",
          "data": {
            "text/plain": [
              "list"
            ]
          },
          "metadata": {},
          "execution_count": 363
        }
      ]
    },
    {
      "cell_type": "markdown",
      "source": [
        "## BeautifualSoup使用簡介\n",
        "\n",
        "\n"
      ],
      "metadata": {
        "id": "OWeeeYDKb3Zi"
      }
    },
    {
      "cell_type": "markdown",
      "source": [
        " * ex1 範例1"
      ],
      "metadata": {
        "id": "37-nQ7Qg3jF3"
      }
    },
    {
      "cell_type": "code",
      "source": [
        "#多行取用需用3組\"\"\" \"\"\"\n",
        "page=\"\"\" \n",
        "<!DOCTYPE html>\n",
        "<html>\n",
        "<head>\n",
        "    <title>這是範例五</title>\n",
        "    <style>\n",
        "            .class1 {background-color: yellow;}\n",
        "    </style>\n",
        "</head>\n",
        "<body>\n",
        "\n",
        "<h1>哈囉！HTML！</h1>\n",
        "\n",
        "<div class=\"class1\">\n",
        "    <p>這是第一個p標籤內容！</p>\n",
        "    <div>\n",
        "        <p data-no=\"two\">這是第二個p標籤內容！</p>\n",
        "    </div>\n",
        "</div>\n",
        "\n",
        "<p class=\"class1\">這是第三個p標籤內容！</p>\n",
        "<p id=\"p4\">這是第四個p標籤內容！</p>\n",
        "</body>\n",
        "</html>\n",
        "\n",
        "\"\"\"  "
      ],
      "metadata": {
        "id": "7MgSXabF0wcV"
      },
      "execution_count": 366,
      "outputs": []
    },
    {
      "cell_type": "code",
      "source": [
        "#!pip install beautifulsoup4"
      ],
      "metadata": {
        "colab": {
          "base_uri": "https://localhost:8080/"
        },
        "id": "m9h8qLWjvzYD",
        "outputId": "5c3171ea-3eb8-49ba-c0c3-4ad61b048d61"
      },
      "execution_count": 364,
      "outputs": [
        {
          "output_type": "stream",
          "name": "stdout",
          "text": [
            "Looking in indexes: https://pypi.org/simple, https://us-python.pkg.dev/colab-wheels/public/simple/\n",
            "Requirement already satisfied: beautifulsoup4 in /usr/local/lib/python3.7/dist-packages (4.6.3)\n"
          ]
        }
      ]
    },
    {
      "cell_type": "code",
      "source": [
        "from bs4 import BeautifulSoup"
      ],
      "metadata": {
        "id": "5UpHmGH81sUg"
      },
      "execution_count": 365,
      "outputs": []
    },
    {
      "cell_type": "code",
      "source": [
        "soup= BeautifulSoup(page)"
      ],
      "metadata": {
        "id": "P6QK_ykr2Khq"
      },
      "execution_count": 166,
      "outputs": []
    },
    {
      "cell_type": "code",
      "source": [
        "soup.title"
      ],
      "metadata": {
        "colab": {
          "base_uri": "https://localhost:8080/"
        },
        "id": "-KoLEr_-2seL",
        "outputId": "5bc9cc4a-cd8e-41da-c453-1f6b004b2ea3"
      },
      "execution_count": 168,
      "outputs": [
        {
          "output_type": "execute_result",
          "data": {
            "text/plain": [
              "<title>HTML範例</title>"
            ]
          },
          "metadata": {},
          "execution_count": 168
        }
      ]
    },
    {
      "cell_type": "code",
      "source": [
        "soup.title.text\n"
      ],
      "metadata": {
        "colab": {
          "base_uri": "https://localhost:8080/",
          "height": 36
        },
        "id": "1A91E2PV25q0",
        "outputId": "94e40f8c-6974-4cbf-9e9b-d49a28acc8bb"
      },
      "execution_count": 169,
      "outputs": [
        {
          "output_type": "execute_result",
          "data": {
            "text/plain": [
              "'HTML範例'"
            ],
            "application/vnd.google.colaboratory.intrinsic+json": {
              "type": "string"
            }
          },
          "metadata": {},
          "execution_count": 169
        }
      ]
    },
    {
      "cell_type": "markdown",
      "source": [
        " * ex2 範例2"
      ],
      "metadata": {
        "id": "TR77MmgG3m9U"
      }
    },
    {
      "cell_type": "code",
      "source": [
        "s2 = \"\"\"\n",
        "<body>\n",
        "\n",
        "<h1>哈囉！HTML！</h1>\n",
        "\n",
        "<div class=\"class1\">\n",
        "    <p>這是第一個p標籤內容！</p>\n",
        "    <div>\n",
        "        <p>這是第二個p標籤內容！</p>\n",
        "    </div>\n",
        "</div>\n",
        "\n",
        "<div class=\"class2\">\n",
        "    <p>這是第三個p標籤內容！</p>\n",
        "    <p>這是第四個p標籤內容！</p>\n",
        "</div>\n",
        "</body>\n",
        "\"\"\""
      ],
      "metadata": {
        "id": "NmxQ3KYS3pp2"
      },
      "execution_count": 370,
      "outputs": []
    },
    {
      "cell_type": "code",
      "source": [
        "soup= BeautifulSoup(s2)"
      ],
      "metadata": {
        "id": "P_I3G3Kw33qB"
      },
      "execution_count": 377,
      "outputs": []
    },
    {
      "cell_type": "code",
      "source": [
        "soup.select('div.class1') #<div class=\"class1\"> class類別查詢使用"
      ],
      "metadata": {
        "colab": {
          "base_uri": "https://localhost:8080/"
        },
        "id": "lJf8NJUE8efm",
        "outputId": "a35d27a3-9598-48d3-cb6d-bb462238bf43"
      },
      "execution_count": 378,
      "outputs": [
        {
          "output_type": "execute_result",
          "data": {
            "text/plain": [
              "[<div class=\"class1\">\n",
              " <p>這是第一個p標籤內容！</p>\n",
              " <div>\n",
              " <p>這是第二個p標籤內容！</p>\n",
              " </div>\n",
              " </div>]"
            ]
          },
          "metadata": {},
          "execution_count": 378
        }
      ]
    },
    {
      "cell_type": "code",
      "source": [
        "soup.select(\"div.class1 p\")"
      ],
      "metadata": {
        "colab": {
          "base_uri": "https://localhost:8080/"
        },
        "id": "iZBTR94kyh9V",
        "outputId": "cf9d0e25-c0e0-4917-b2b8-e134d9f961b0"
      },
      "execution_count": 380,
      "outputs": [
        {
          "output_type": "execute_result",
          "data": {
            "text/plain": [
              "[<p>這是第一個p標籤內容！</p>, <p>這是第二個p標籤內容！</p>]"
            ]
          },
          "metadata": {},
          "execution_count": 380
        }
      ]
    },
    {
      "cell_type": "code",
      "source": [
        "soup.select('div.class1 > p')"
      ],
      "metadata": {
        "colab": {
          "base_uri": "https://localhost:8080/"
        },
        "id": "3bkl-eBTyru0",
        "outputId": "9fefd8d4-5854-408d-de8b-60910515118f"
      },
      "execution_count": 381,
      "outputs": [
        {
          "output_type": "execute_result",
          "data": {
            "text/plain": [
              "[<p>這是第一個p標籤內容！</p>]"
            ]
          },
          "metadata": {},
          "execution_count": 381
        }
      ]
    },
    {
      "cell_type": "code",
      "source": [
        "soup.select('p')"
      ],
      "metadata": {
        "colab": {
          "base_uri": "https://localhost:8080/"
        },
        "id": "ABHDvUHi39An",
        "outputId": "5b31c13f-5563-431c-ed16-7ce105d563a5"
      },
      "execution_count": 177,
      "outputs": [
        {
          "output_type": "execute_result",
          "data": {
            "text/plain": [
              "[<p>這是第一個p標籤內容！</p>,\n",
              " <p>這是第二個p標籤內容！</p>,\n",
              " <p>這是第三個p標籤內容！</p>,\n",
              " <p>這是第四個p標籤內容！</p>]"
            ]
          },
          "metadata": {},
          "execution_count": 177
        }
      ]
    },
    {
      "cell_type": "markdown",
      "source": [
        "* ex3"
      ],
      "metadata": {
        "id": "terwrgubxBLV"
      }
    },
    {
      "cell_type": "code",
      "source": [
        "page=\"\"\"\n",
        "<!DOCTYPE html>\n",
        "<html>\n",
        "<head>\n",
        "    <title>這是範例五</title>\n",
        "    <style>\n",
        "            .class1 {background-color: yellow;}\n",
        "    </style>\n",
        "</head>\n",
        "<body>\n",
        "\n",
        "<h1>哈囉！HTML！</h1>\n",
        "\n",
        "<div class=\"class1\">\n",
        "    <p>這是第一個p標籤內容！</p>\n",
        "    <div>\n",
        "        <p data-no=\"two\">這是第二個p標籤內容！</p>\n",
        "    </div>\n",
        "</div>\n",
        "\n",
        "<p class=\"class1\">這是第三個p標籤內容！</p>\n",
        "<p id=\"p4\">這是第四個p標籤內容！</p>\n",
        "</body>\n",
        "</html>\n",
        "\"\"\""
      ],
      "metadata": {
        "id": "MXOv-1zz4w83"
      },
      "execution_count": null,
      "outputs": []
    },
    {
      "cell_type": "code",
      "source": [
        "soup= BeautifulSoup(page)\n",
        "soup.select('.class1')"
      ],
      "metadata": {
        "colab": {
          "base_uri": "https://localhost:8080/"
        },
        "id": "DU3p0rU2xKN1",
        "outputId": "1c048e75-2025-4550-9470-38ffddba188a"
      },
      "execution_count": 369,
      "outputs": [
        {
          "output_type": "execute_result",
          "data": {
            "text/plain": [
              "[<div class=\"class1\">\n",
              " <p>這是第一個p標籤內容！</p>\n",
              " <div>\n",
              " <p data-no=\"two\">這是第二個p標籤內容！</p>\n",
              " </div>\n",
              " </div>, <p class=\"class1\">這是第三個p標籤內容！</p>]"
            ]
          },
          "metadata": {},
          "execution_count": 369
        }
      ]
    },
    {
      "cell_type": "code",
      "source": [
        "s3 = \"\"\"\n",
        "<body>\n",
        "\n",
        "<h1>哈囉！HTML！</h1>\n",
        "\n",
        "<div class=\"class1\">\n",
        "    <p>這是第一個p標籤內容！</p>\n",
        "    <div>\n",
        "        <p data-no=\"two\">這是第二個p標籤內容！</p>\n",
        "    </div>\n",
        "</div>\n",
        "\n",
        "<p class=\"class1\">這是第三個p標籤內容！</p>\n",
        "<p id=\"p4\">這是第四個p標籤內容！</p>\n",
        "</body>\n",
        "\"\"\""
      ],
      "metadata": {
        "id": "BrMgeZSSzpA8"
      },
      "execution_count": 382,
      "outputs": []
    },
    {
      "cell_type": "code",
      "source": [
        "soup3=BeautifulSoup(s3)"
      ],
      "metadata": {
        "id": "uuskRe2VzqXh"
      },
      "execution_count": 386,
      "outputs": []
    },
    {
      "cell_type": "code",
      "source": [
        "soup3.select(\".class1\")"
      ],
      "metadata": {
        "colab": {
          "base_uri": "https://localhost:8080/"
        },
        "id": "8hXOOSXHz_TU",
        "outputId": "423ce8df-3b03-4e49-edcc-74c897d972f9"
      },
      "execution_count": 387,
      "outputs": [
        {
          "output_type": "execute_result",
          "data": {
            "text/plain": [
              "[<div class=\"class1\">\n",
              " <p>這是第一個p標籤內容！</p>\n",
              " <div>\n",
              " <p data-no=\"two\">這是第二個p標籤內容！</p>\n",
              " </div>\n",
              " </div>, <p class=\"class1\">這是第三個p標籤內容！</p>]"
            ]
          },
          "metadata": {},
          "execution_count": 387
        }
      ]
    },
    {
      "cell_type": "code",
      "source": [
        "soup3.select(\"#p4\")"
      ],
      "metadata": {
        "colab": {
          "base_uri": "https://localhost:8080/"
        },
        "id": "X-iNfzlQzvkM",
        "outputId": "3234c185-209d-4abd-eadb-fdd8b2fe481c"
      },
      "execution_count": 392,
      "outputs": [
        {
          "output_type": "execute_result",
          "data": {
            "text/plain": [
              "[<p id=\"p4\">這是第四個p標籤內容！</p>]"
            ]
          },
          "metadata": {},
          "execution_count": 392
        }
      ]
    },
    {
      "cell_type": "code",
      "source": [
        "soup3.select('p[data-no=\"two\"]')"
      ],
      "metadata": {
        "colab": {
          "base_uri": "https://localhost:8080/"
        },
        "id": "9_EeTTuz0HjX",
        "outputId": "4b961948-8beb-45be-fed3-ee57de6a3434"
      },
      "execution_count": 393,
      "outputs": [
        {
          "output_type": "execute_result",
          "data": {
            "text/plain": [
              "[<p data-no=\"two\">這是第二個p標籤內容！</p>]"
            ]
          },
          "metadata": {},
          "execution_count": 393
        }
      ]
    },
    {
      "cell_type": "markdown",
      "source": [
        "#嘗試抓取MOMO冰箱資料"
      ],
      "metadata": {
        "id": "hv5MrQtd52HO"
      }
    },
    {
      "cell_type": "code",
      "source": [
        "!pip install fake_useragent"
      ],
      "metadata": {
        "colab": {
          "base_uri": "https://localhost:8080/"
        },
        "id": "nP95Zay8NiQD",
        "outputId": "3de7d2be-953e-4ced-931b-8f0797b29044"
      },
      "execution_count": 207,
      "outputs": [
        {
          "output_type": "stream",
          "name": "stdout",
          "text": [
            "Looking in indexes: https://pypi.org/simple, https://us-python.pkg.dev/colab-wheels/public/simple/\n",
            "Collecting fake_useragent\n",
            "  Downloading fake-useragent-0.1.11.tar.gz (13 kB)\n",
            "Building wheels for collected packages: fake-useragent\n",
            "  Building wheel for fake-useragent (setup.py) ... \u001b[?25l\u001b[?25hdone\n",
            "  Created wheel for fake-useragent: filename=fake_useragent-0.1.11-py3-none-any.whl size=13502 sha256=5068480e0d5cdae5ac92f1ebe4b12b73f16ce667465d54848056b90c10ffe3f7\n",
            "  Stored in directory: /root/.cache/pip/wheels/ed/f7/62/50ab6c9a0b5567267ab76a9daa9d06315704209b2c5d032031\n",
            "Successfully built fake-useragent\n",
            "Installing collected packages: fake-useragent\n",
            "Successfully installed fake-useragent-0.1.11\n"
          ]
        }
      ]
    },
    {
      "cell_type": "code",
      "source": [
        "from fake_useragent import UserAgent ##載入User-Agent 產生器，以防網站偵測爬蟲程式被檔\n",
        "ua = UserAgent()"
      ],
      "metadata": {
        "id": "Ji_n_iWlNmZ_"
      },
      "execution_count": 212,
      "outputs": []
    },
    {
      "cell_type": "code",
      "source": [
        "url=\"https://www.momoshop.com.tw/category/LgrpCategory.jsp?l_code=4300700000&mdiv=1099600000-bt_0_996_10-&ctype=B&btType=C&sourcePageType=4\""
      ],
      "metadata": {
        "id": "M9FUkaSQ59jD"
      },
      "execution_count": 265,
      "outputs": []
    },
    {
      "cell_type": "code",
      "source": [
        "user_agent = ua.random   ###亂數產生browser給爬蟲程式使用偽人工\n",
        "headers = {'user-agent': user_agent}"
      ],
      "metadata": {
        "id": "j2192gLR6inq"
      },
      "execution_count": 266,
      "outputs": []
    },
    {
      "cell_type": "code",
      "source": [
        "pData=requests.get(url, headers = headers)"
      ],
      "metadata": {
        "id": "EgPkAwV96Lzo"
      },
      "execution_count": 267,
      "outputs": []
    },
    {
      "cell_type": "code",
      "source": [
        "type(pData)"
      ],
      "metadata": {
        "colab": {
          "base_uri": "https://localhost:8080/"
        },
        "id": "i3fl2opfPO3Q",
        "outputId": "d5f72629-63fa-4020-9a63-674742073acc"
      },
      "execution_count": 260,
      "outputs": [
        {
          "output_type": "execute_result",
          "data": {
            "text/plain": [
              "requests.models.Response"
            ]
          },
          "metadata": {},
          "execution_count": 260
        }
      ]
    },
    {
      "cell_type": "code",
      "source": [
        "soup=BeautifulSoup(pData.text)"
      ],
      "metadata": {
        "id": "qeaX96kGRhIi"
      },
      "execution_count": 270,
      "outputs": []
    },
    {
      "cell_type": "code",
      "source": [
        "products=soup.select(\".prdName\")"
      ],
      "metadata": {
        "id": "LHUw17vJS0xI"
      },
      "execution_count": 294,
      "outputs": []
    },
    {
      "cell_type": "code",
      "source": [
        "products[1].text"
      ],
      "metadata": {
        "colab": {
          "base_uri": "https://localhost:8080/",
          "height": 36
        },
        "id": "eYob9gXSc4SX",
        "outputId": "63207acb-5b03-49b0-c1ef-961a8eed7c03"
      },
      "execution_count": 314,
      "outputs": [
        {
          "output_type": "execute_result",
          "data": {
            "text/plain": [
              "'【Apple 蘋果】MacBook Air 13.3吋 M1 8核心 CPU 8核心 GPU 8GB 記憶體 512GB SSD(2020)'"
            ],
            "application/vnd.google.colaboratory.intrinsic+json": {
              "type": "string"
            }
          },
          "metadata": {},
          "execution_count": 314
        }
      ]
    },
    {
      "cell_type": "code",
      "source": [
        "productsPrice=soup.select(\".prdPrice\")"
      ],
      "metadata": {
        "id": "1n4JBnyUd0Qt"
      },
      "execution_count": 319,
      "outputs": []
    },
    {
      "cell_type": "code",
      "source": [
        "productsPrice[10].text"
      ],
      "metadata": {
        "colab": {
          "base_uri": "https://localhost:8080/",
          "height": 36
        },
        "id": "tf6EJTrLcoKS",
        "outputId": "60a95a1e-7a7c-43fa-c05d-9c2ec5cd5f57"
      },
      "execution_count": 322,
      "outputs": [
        {
          "output_type": "execute_result",
          "data": {
            "text/plain": [
              "'$12,558'"
            ],
            "application/vnd.google.colaboratory.intrinsic+json": {
              "type": "string"
            }
          },
          "metadata": {},
          "execution_count": 322
        }
      ]
    },
    {
      "cell_type": "code",
      "source": [
        "len(productsPrice)"
      ],
      "metadata": {
        "colab": {
          "base_uri": "https://localhost:8080/"
        },
        "id": "vBaxbKRC2qCf",
        "outputId": "2199bb59-6b43-41f4-a947-e1a7b7aedefc"
      },
      "execution_count": 417,
      "outputs": [
        {
          "output_type": "execute_result",
          "data": {
            "text/plain": [
              "99"
            ]
          },
          "metadata": {},
          "execution_count": 417
        }
      ]
    },
    {
      "cell_type": "code",
      "source": [
        "for i in range(99):\n",
        "  print(products[i].text+\" ==> \"+productsPrice[i].text)\n",
        "  i+=1\n",
        " "
      ],
      "metadata": {
        "colab": {
          "base_uri": "https://localhost:8080/"
        },
        "id": "qEWVR0Bud_a3",
        "outputId": "c09c1766-3072-4d23-e8a6-941345f98dc6"
      },
      "execution_count": 418,
      "outputs": [
        {
          "output_type": "stream",
          "name": "stdout",
          "text": [
            "【獨家★送羅技無線滑鼠+電腦包】Apple MacBook Air 13.3吋 8核心CPU 與 7核心GPU 256G SSD(M1晶片) ==> $28,500\n",
            "【Apple 蘋果】MacBook Air 13.3吋 M1 8核心 CPU 8核心 GPU 8GB 記憶體 512GB SSD(2020) ==> $33,900\n",
            "【Apple 蘋果】MacBook Pro (14吋/M1 Pro/16G/512G) ==> $56,905\n",
            "【+羅技MX Anywhere 3滑鼠】Apple Mac mini M1晶片 8核心CPU 與 8核心GPU 512G SSD(MGNT3TA/A) ==> $27,900\n",
            "【Apple 蘋果】MacBook Air 13.3吋 M1晶片/8核心CPU/7核心GPU/8G/256G SSD ==> $27,900\n",
            "【Apple 蘋果】MacBook Air 13.3吋 M1晶片/8核心CPU/7核心GPU/8G/256G SSD ==> $27,900\n",
            "【Apple 蘋果】特規機 iMac 24吋M1晶片/8核心CPU /8核心GPU/16G/256G SSD(4.5K Retina顯示器) ==> 熱銷一空\n",
            "【Apple 蘋果】B 級福利品 MacBook Air 13吋 i5 1.6G 處理器 8GB 記憶體 128GB SSD 輕薄文書機(2015) ==> $9,900\n",
            "【Apple 蘋果】B 級福利品 MacBook Pro Retina 13吋 i5 2.7G 處理器 8GB 記憶體 256GB SSD(2015) ==> $13,900\n",
            "【Apple 蘋果】B 級福利品 MacBook Air 13吋 i5 1.8G 處理器 8GB 記憶體 128GB SSD 輕薄文書機(2017) ==> $11,900\n",
            "【Apple 蘋果】B 級福利品 MacBook Pro Retina 13吋 i5 2.6G 處理器 8GB 記憶體 256GB SSD(2014) ==> $12,558\n",
            "【Apple 蘋果】A+ 級福利品 MacBook Air Retina 13.3吋 M1 8核心CPU 7核心GPU 8GB 記憶體 256G SSD(2020) ==> $25,024\n",
            " ==> $\n",
            " ==> $\n",
            " ==> $\n",
            " ==> $\n",
            " ==> $\n",
            " ==> $\n",
            " ==> $\n",
            " ==> $\n",
            " ==> $\n",
            " ==> $\n",
            " ==> $\n",
            " ==> $\n",
            " ==> $\n",
            " ==> $\n",
            " ==> $\n",
            "【+微軟365個人版】Apple MacBook Air 13.3吋 M1晶片 8核心CPU 與 7核心GPU 256G SSD ==> $28,900\n",
            "【+Office 2021】MacBook Air 13.3吋 M1晶片 8核心CPU 與 7核心GPU 256G SSD ==> $31,500\n",
            "【★獨家送收納包+筆電支架】Apple 蘋果 MacBook Air(13吋/M1/256GB) ==> $28,500\n",
            "【+微軟365個人版】Apple MacBook Air 13.3吋 M1晶片 8核心CPU 與 8核心GPU 512G SSD ==> $37,900\n",
            "【+羅技MX Anywhere 3滑鼠】Apple MacBook Air 13.3吋 M1晶片 8核心CPU 與 8核心GPU 512G SSD ==> $37,900\n",
            "【Apple 蘋果】特規機 MacBook Air 13.3吋 M1晶片 8核心CPU 與 7核心GPU(16G/256G SSD) ==> 熱銷一空\n",
            "【+Office 2021】特規機 MacBook Air 13.3吋 M1晶片 8核心CPU 與 7核心GPU(16G/256G SSD) ==> 熱銷一空\n",
            "【+4TB NAS網路硬碟】Apple 特規機 MacBook Air 13.3吋 M1晶片 8核心CPU 與 7核心GPU(16G/256G SSD) ==> 熱銷一空\n",
            "【+Microsoft 365個人版】特規機 MacBook Air 13.3吋 M1晶片 8核心CPU 與 7核心GPU(16G/256G SSD) ==> 熱銷一空\n",
            "【+羅技MX Anywhere 3滑鼠】Apple 特規機 MacBook Air 13.3吋 M1晶片 8核心CPU 與 7核心GPU(16G/256G SSD) ==> 熱銷一空\n",
            " ==> $\n",
            " ==> $\n",
            " ==> $\n",
            " ==> $\n",
            " ==> $\n",
            " ==> $\n",
            " ==> $\n",
            " ==> $\n",
            " ==> $\n",
            " ==> $\n",
            "【Apple 蘋果】MacBook Pro (14吋/M1 Pro/16G/512G) ==> $56,905\n",
            "【Apple 蘋果】MacBook Pro 14吋 1TB M1 Pro 10核CPU(16核GPU / 16GB 記憶體) ==> $71,155\n",
            "【Apple 蘋果】MacBook Pro 16吋 M1 Pro晶片 10核心CPU與16核心GPU 16G/512GB SSD ==> $71,155\n",
            "【Apple 蘋果】MacBook Pro 16吋 M1 Pro晶片 10核心CPU與16核心GPU 16G/1TB SSD ==> $80,900\n",
            "【Apple 蘋果】特規機 MacBook Pro 14吋 M1 Max晶片 10核心CPU與24核心GPU 32G/512G SSD ==> $86,900\n",
            " ==> $\n",
            " ==> $\n",
            " ==> $\n",
            " ==> $\n",
            " ==> $\n",
            " ==> $\n",
            " ==> $\n",
            " ==> $\n",
            " ==> $\n",
            " ==> $\n",
            " ==> $\n",
            " ==> $\n",
            " ==> $\n",
            " ==> $\n",
            " ==> $\n",
            "【Apple 蘋果】Mac mini M1晶片 8核心CPU 與 8核心GPU 256G SSD(MGNR3TA/A) ==> $20,805\n",
            "【Apple 蘋果】Mac mini M1晶片 8核心CPU 與 8核心GPU 512G SSD(MGNT3TA/A) ==> $26,505\n",
            "【Apple 蘋果】特規機 Mac mini M1晶片 8核CPU 8核GPU(16G/1TB SSD) ==> $37,905\n",
            "【Apple 蘋果】特規機 Mac mini M1晶片 8核CPU 8核GPU(16G/256G SSD) ==> $26,505\n",
            "【Apple 蘋果】特規機 Mac mini M1晶片 8核CPU 8核GPU(16G/256G SSD) ==> $26,505\n",
            " ==> $\n",
            " ==> $\n",
            " ==> $\n",
            " ==> $\n",
            " ==> $\n",
            " ==> $\n",
            " ==> $\n",
            " ==> $\n",
            " ==> $\n",
            " ==> $\n",
            " ==> $\n",
            " ==> $\n",
            " ==> $\n",
            " ==> $\n",
            " ==> $\n",
            "【Apple 蘋果】iMac 24吋M1晶片/8核心CPU /7核心GPU/8G/256G SSD(4.5K Retina顯示器) ==> $37,905\n",
            "【Apple 蘋果】iMac 24吋M1晶片/8核心CPU /8核心GPU/8G/256G SSD(4.5K Retina顯示器) ==> $43,605\n",
            "【Apple 蘋果】iMac 24吋M1晶片/8核心CPU /8核心GPU/8G/512G SSD(4.5K Retina顯示器) ==> $49,305\n",
            "【+Parallels軟體 Desktop 17】特規機iMac 24吋 M1晶片/8CPU/7GPU/16G/256G SSD 含Touch ID巧控鍵盤 ==> 熱銷一空\n",
            "【+Office 2021】特規機 iMac 24吋 M1晶片/8核心CPU/7核心GPU/16G/256G SSD +含Touch ID巧控鍵盤 ==> 熱銷一空\n",
            "【送type-C HUB轉接器】Apple 蘋果 特規機iMac 24吋 M1晶片/8CPU/7GPU/16G/256G SSD 含Touch ID巧控鍵盤 ==> 熱銷一空\n",
            " ==> $\n",
            " ==> $\n",
            " ==> $\n",
            " ==> $\n",
            " ==> $\n",
            " ==> $\n"
          ]
        }
      ]
    },
    {
      "cell_type": "code",
      "source": [
        "soup.select(\".prdPrice\")"
      ],
      "metadata": {
        "id": "oMtxse_ZcRnB"
      },
      "execution_count": null,
      "outputs": []
    },
    {
      "cell_type": "markdown",
      "source": [
        "##selenium BeautifualSoup\n",
        "selenium IDE"
      ],
      "metadata": {
        "id": "GvAssF9Mb7zQ"
      }
    },
    {
      "cell_type": "markdown",
      "source": [
        "##pandas dataFrame"
      ],
      "metadata": {
        "id": "JvGSftHAcIJX"
      }
    }
  ]
}