{
  "nbformat": 4,
  "nbformat_minor": 0,
  "metadata": {
    "colab": {
      "name": "20220709_McCoy.ipynb",
      "provenance": [],
      "collapsed_sections": [],
      "authorship_tag": "ABX9TyPMZ2ovyvIZoyMp0nXZ7PZn",
      "include_colab_link": true
    },
    "kernelspec": {
      "name": "python3",
      "display_name": "Python 3"
    },
    "language_info": {
      "name": "python"
    },
    "accelerator": "TPU",
    "gpuClass": "standard"
  },
  "cells": [
    {
      "cell_type": "markdown",
      "metadata": {
        "id": "view-in-github",
        "colab_type": "text"
      },
      "source": [
        "<a href=\"https://colab.research.google.com/github/mccoy0928/20220702-Python/blob/main/20220709_McCoy.ipynb\" target=\"_parent\"><img src=\"https://colab.research.google.com/assets/colab-badge.svg\" alt=\"Open In Colab\"/></a>"
      ]
    },
    {
      "cell_type": "markdown",
      "source": [
        "# 20220709 \n"
      ],
      "metadata": {
        "id": "x63mi-AAgMsm"
      }
    },
    {
      "cell_type": "markdown",
      "source": [
        "## 初學者需要知道的概念\n",
        "\n",
        "* 資料型態\n",
        " * int 整數\n",
        " * float 浮點\n",
        " * bool 布林\n",
        " * str 字串\n",
        "* 容器型別\n",
        " * list <==串列 [ ]\n",
        " * tuple <==元組 ( )\n",
        " * dict <==字典 { }\n",
        " * set <==集合{ }\n",
        "* 基礎語法\n",
        " * loops 迴圈\n",
        " * functions 函式\n",
        " * if statements 條件式\n",
        " * exception handling 例外處理\n"
      ],
      "metadata": {
        "id": "YN2iw0SOgWg6"
      }
    },
    {
      "cell_type": "markdown",
      "source": [
        "# eXtreme Programming\n",
        "\n",
        "**軟體開發的四個變因：**\n",
        "\n",
        "1. 成本 (Cost)\n",
        "\n",
        "2. 時間 (Time)\n",
        "\n",
        "3. 品質 (Quality)\n",
        "\n",
        "4. 範疇 (Scope)\n",
        "\n",
        "**eXtreme Programming的12個核心實踐方式：**\n",
        "\n",
        "1. The Planning Game\n",
        "\n",
        "**2. Small Release**\n",
        "\n",
        "3. System Metaphor\n",
        "\n",
        "4. Simple Design\n",
        "\n",
        "5. Continuous Testing\n",
        "\n",
        "6. Refactoring\n",
        "\n",
        "**7. Pair Programming**\n",
        "\n",
        "8. Collective Code Ownership\n",
        "\n",
        "9. Continuous Integration\n",
        "\n",
        "10. 40-hr Work Week\n",
        "\n",
        "11. On-Site Customer\n",
        "\n",
        "**12. Coding Standards**"
      ],
      "metadata": {
        "id": "noC00zAUjP7f"
      }
    },
    {
      "cell_type": "markdown",
      "source": [
        "# loops: for, while"
      ],
      "metadata": {
        "id": "fZ_ovDPLmhpZ"
      }
    },
    {
      "cell_type": "markdown",
      "source": [
        "## for loops\n",
        "## 基本語法\n",
        "~~~ python\n",
        "for 變數 in 資料結構:\n",
        "  程式區塊 (裡面可以使用上面的變數)\n",
        "~~~"
      ],
      "metadata": {
        "id": "j8hmtyJRmn7O"
      }
    },
    {
      "cell_type": "code",
      "execution_count": 4,
      "metadata": {
        "id": "_PV8OiKlfwSs",
        "colab": {
          "base_uri": "https://localhost:8080/"
        },
        "outputId": "3095f967-ac14-4339-cbea-577b1ce06d80"
      },
      "outputs": [
        {
          "output_type": "stream",
          "name": "stdout",
          "text": [
            "區塊開始\n",
            "0\n",
            "區塊開始\n",
            "1\n",
            "區塊開始\n",
            "2\n",
            "區塊結束\n"
          ]
        }
      ],
      "source": [
        "for i in range(3):\n",
        "  print(\"區塊開始\")\n",
        "  print(i)\n",
        "print(\"區塊結束\")"
      ]
    },
    {
      "cell_type": "code",
      "source": [
        "for i in range(3):\n",
        "  print(\"區塊開始\")\n",
        "  print(i)\n",
        "  print(\"區塊結束\")"
      ],
      "metadata": {
        "colab": {
          "base_uri": "https://localhost:8080/"
        },
        "id": "bqusjegFn7kB",
        "outputId": "d456b77d-d654-4cb2-e8a8-8e6a9f1cfbca"
      },
      "execution_count": 5,
      "outputs": [
        {
          "output_type": "stream",
          "name": "stdout",
          "text": [
            "區塊開始\n",
            "0\n",
            "區塊結束\n",
            "區塊開始\n",
            "1\n",
            "區塊結束\n",
            "區塊開始\n",
            "2\n",
            "區塊結束\n"
          ]
        }
      ]
    },
    {
      "cell_type": "markdown",
      "source": [
        "## while loops\n",
        "## 基本語法\n",
        "~~~ python\n",
        "while 條件式:\n",
        "  程式區塊 \n",
        "~~~"
      ],
      "metadata": {
        "id": "_DwUJj3CoT3V"
      }
    },
    {
      "cell_type": "code",
      "source": [
        "x = 0\n",
        "while x < 10 :\n",
        "  print(x)\n",
        "  x += 1"
      ],
      "metadata": {
        "id": "puc-DXzRoskK"
      },
      "execution_count": null,
      "outputs": []
    },
    {
      "cell_type": "markdown",
      "source": [
        "## 寫一個九九乘法表\n",
        "### 可以用for迴圈 或 while"
      ],
      "metadata": {
        "id": "_UbiP_HZpkWP"
      }
    },
    {
      "cell_type": "markdown",
      "source": [
        "## 方法一"
      ],
      "metadata": {
        "id": "RX-wQp1IuC33"
      }
    },
    {
      "cell_type": "code",
      "source": [
        "for i in range(2,10):\n",
        "  for j in range(1,10):\n",
        "    print(i,\"*\",j,\"=\",i*j)"
      ],
      "metadata": {
        "id": "n8Vs6HHdp4eS"
      },
      "execution_count": null,
      "outputs": []
    },
    {
      "cell_type": "markdown",
      "source": [
        "## 方法二"
      ],
      "metadata": {
        "id": "vF_fzA5xt70k"
      }
    },
    {
      "cell_type": "code",
      "source": [
        "i = 2\n",
        "while i <10:\n",
        "  j=2\n",
        "  while j <10:\n",
        "    print(i,\"*\",j,\"=\",i*j)\n",
        "    j+=1 \n",
        "  i+=1"
      ],
      "metadata": {
        "id": "z71YOq2IrJjd"
      },
      "execution_count": null,
      "outputs": []
    },
    {
      "cell_type": "markdown",
      "source": [
        "# 條件式 (if statements)"
      ],
      "metadata": {
        "id": "3Etfmk9-xwz0"
      }
    },
    {
      "cell_type": "markdown",
      "source": [
        "\n",
        "基本語法\n",
        "##語法一:\n",
        "~~~python\n",
        "if 條件式:\n",
        "  程式區塊\n",
        "~~~\n",
        "\n"
      ],
      "metadata": {
        "id": "uIirLKgouT-e"
      }
    },
    {
      "cell_type": "code",
      "source": [
        "a=3\n",
        "b=2\n",
        "if a > b:\n",
        "  print(\"a > b\")"
      ],
      "metadata": {
        "colab": {
          "base_uri": "https://localhost:8080/"
        },
        "id": "0sfqD15Sv7bM",
        "outputId": "9a2bab63-e0cb-4bef-ff45-d939b0f2db0a"
      },
      "execution_count": 14,
      "outputs": [
        {
          "output_type": "stream",
          "name": "stdout",
          "text": [
            "a > b\n"
          ]
        }
      ]
    },
    {
      "cell_type": "markdown",
      "source": [
        "##語法二:\n",
        "~~~python\n",
        "if 條件式1:\n",
        "  程式區塊1\n",
        "else:\n",
        "  程式區塊2\n",
        "~~~"
      ],
      "metadata": {
        "id": "jNo_X8Jkw8tO"
      }
    },
    {
      "cell_type": "code",
      "source": [
        "a=1\n",
        "b=2\n",
        "if a > b:\n",
        "  print(\"a > b\")\n",
        "else:\n",
        "  print(\"a < b\")"
      ],
      "metadata": {
        "colab": {
          "base_uri": "https://localhost:8080/"
        },
        "id": "vc0CsW_2wQRk",
        "outputId": "8d21b389-2a92-4844-87d8-3d05aa9b06fa"
      },
      "execution_count": 15,
      "outputs": [
        {
          "output_type": "stream",
          "name": "stdout",
          "text": [
            "a < b\n"
          ]
        }
      ]
    },
    {
      "cell_type": "markdown",
      "source": [
        "##語法三:\n",
        "~~~python\n",
        "if 條件式1:\n",
        "  程式區塊1\n",
        "elif 條件式2:\n",
        "  程式區塊2\n",
        "else:\n",
        "  程式區塊3\n",
        "~~~"
      ],
      "metadata": {
        "id": "g-bOwfhkxEXu"
      }
    },
    {
      "cell_type": "code",
      "source": [
        "a=3\n",
        "b=2\n",
        "if a > b:\n",
        "  print(\"a > b\")\n",
        "elif a == b:\n",
        "  print(\"a = b\")\n",
        "else:\n",
        "  print(\"a < b\")"
      ],
      "metadata": {
        "colab": {
          "base_uri": "https://localhost:8080/"
        },
        "id": "sofO9Gbdwcry",
        "outputId": "82439fc1-dcc0-4bdd-f77e-162bf0400f9c"
      },
      "execution_count": 18,
      "outputs": [
        {
          "output_type": "stream",
          "name": "stdout",
          "text": [
            "a > b\n"
          ]
        }
      ]
    },
    {
      "cell_type": "markdown",
      "source": [
        "## 請計算bmi 並判斷體位\n",
        "\n",
        "$$ bmi=\\frac{體重(公斤)}{身高(公尺)^2} $$ \n",
        "\n",
        "|條件|體位|\n",
        "|:-:|:-:|\n",
        "|<18|體重過輕|\n",
        "|18~24|健康體位|\n",
        "|>24|體位異常|\n",
        "\n"
      ],
      "metadata": {
        "id": "udrzQFN-yKwC"
      }
    },
    {
      "cell_type": "code",
      "source": [
        "weight = 70\n",
        "height = 1.68\n",
        "bmi=weight/(height**2)\n",
        "print(bmi)"
      ],
      "metadata": {
        "colab": {
          "base_uri": "https://localhost:8080/"
        },
        "id": "nosK7zrGzbky",
        "outputId": "71448d7b-aee4-403e-e4a0-aa4a2592be9e"
      },
      "execution_count": 30,
      "outputs": [
        {
          "output_type": "stream",
          "name": "stdout",
          "text": [
            "24.801587301587304\n"
          ]
        }
      ]
    },
    {
      "cell_type": "code",
      "source": [
        "light=\"體重過輕\"\n",
        "normal=\"健康體位\"\n",
        "heavy=\"體位異常\"\n",
        "\n",
        "if bmi <18:\n",
        "  print(light)\n",
        "elif bmi <24:\n",
        "  print(normal)\n",
        "else:\n",
        "  print(heavy)"
      ],
      "metadata": {
        "colab": {
          "base_uri": "https://localhost:8080/"
        },
        "id": "_BaZOstvzxow",
        "outputId": "3ef47702-6a9c-497b-b68d-c72be8a8ddc5"
      },
      "execution_count": 31,
      "outputs": [
        {
          "output_type": "stream",
          "name": "stdout",
          "text": [
            "健康體位\n"
          ]
        }
      ]
    },
    {
      "cell_type": "code",
      "source": [
        "def health(w, h):\n",
        "  pass"
      ],
      "metadata": {
        "id": "GjwZR0K51crt"
      },
      "execution_count": 32,
      "outputs": []
    },
    {
      "cell_type": "code",
      "source": [
        "def health(weight, height): # 變數可用中文\n",
        "  bmi=float(weight)/((float(height)/100)**2)\n",
        "  #print(bmi)  \n",
        "  light=\"體重過輕\"\n",
        "  normal=\"健康體位\"\n",
        "  heavy=\"體位異常\"\n",
        "\n",
        "  if bmi <18:\n",
        "    return light #print(light)\n",
        "  elif 18 <= bmi <=24:\n",
        "    return normal #print(normal)\n",
        "  else:\n",
        "    return heavy #print(heavy)"
      ],
      "metadata": {
        "id": "6EUW5xNk3alA"
      },
      "execution_count": 75,
      "outputs": []
    },
    {
      "cell_type": "code",
      "source": [
        "def health2(體重, 身高): # 變數可用中文\n",
        "  bmi=float(體重)/((float(身高)/100)**2)\n",
        "  #print(bmi)  \n",
        "  light=\"體重過輕\"\n",
        "  normal=\"健康體位\"\n",
        "  heavy=\"體位異常\"\n",
        "\n",
        "  if bmi <18:\n",
        "    return bmi, light #print(light)\n",
        "  elif 18 <= bmi <=24:\n",
        "    return bmi, normal #print(normal)\n",
        "  else:\n",
        "    return bmi, heavy #print(heavy)"
      ],
      "metadata": {
        "id": "VYXgqWKmGBsN"
      },
      "execution_count": 79,
      "outputs": []
    },
    {
      "cell_type": "code",
      "source": [
        "health(67, 1.68)"
      ],
      "metadata": {
        "colab": {
          "base_uri": "https://localhost:8080/",
          "height": 36
        },
        "id": "vQM4aFI13p7V",
        "outputId": "591240bb-93d6-4445-8e8c-bc6eec06f220"
      },
      "execution_count": 55,
      "outputs": [
        {
          "output_type": "execute_result",
          "data": {
            "text/plain": [
              "'健康體位'"
            ],
            "application/vnd.google.colaboratory.intrinsic+json": {
              "type": "string"
            }
          },
          "metadata": {},
          "execution_count": 55
        }
      ]
    },
    {
      "cell_type": "code",
      "source": [
        "weight = input(\"請輸入體重(公斤): \") #輸入資料均為\"字串\"\n",
        "height = input(\"請輸入身高(CM): \")\n",
        "health(float(weight), float(height)/100) #資料轉型"
      ],
      "metadata": {
        "colab": {
          "base_uri": "https://localhost:8080/",
          "height": 72
        },
        "id": "IVW4zsJw7Kor",
        "outputId": "53b24148-6397-4cd9-e243-b43126b7820e"
      },
      "execution_count": 58,
      "outputs": [
        {
          "name": "stdout",
          "output_type": "stream",
          "text": [
            "請輸入體重(公斤): 66\n",
            "請輸入身高(CM): 170\n"
          ]
        },
        {
          "output_type": "execute_result",
          "data": {
            "text/plain": [
              "'健康體位'"
            ],
            "application/vnd.google.colaboratory.intrinsic+json": {
              "type": "string"
            }
          },
          "metadata": {},
          "execution_count": 58
        }
      ]
    },
    {
      "cell_type": "markdown",
      "source": [
        "# Gradio https://gradio.app/ 使用簡介\n",
        "~~~\n",
        "!pip install gradio\n",
        "~~~\n",
        "\n",
        "\n",
        "\n"
      ],
      "metadata": {
        "id": "GwNxblo7_f90"
      }
    },
    {
      "cell_type": "code",
      "source": [
        "!pip install gradio"
      ],
      "metadata": {
        "id": "ygTS9PxQ_1KY"
      },
      "execution_count": null,
      "outputs": []
    },
    {
      "cell_type": "code",
      "source": [
        "import gradio as gr\n",
        "\n",
        "def greet(name):\n",
        "    return \"Hello \" + name + \"!!\""
      ],
      "metadata": {
        "id": "5xe2iwZTA5wE"
      },
      "execution_count": 62,
      "outputs": []
    },
    {
      "cell_type": "code",
      "source": [
        "demo = gr.Interface(fn=greet, inputs=\"text\", outputs=\"text\")\n",
        "\n",
        "demo.launch(share=True)"
      ],
      "metadata": {
        "id": "zxqo2SKpBA34"
      },
      "execution_count": null,
      "outputs": []
    },
    {
      "cell_type": "code",
      "source": [
        "gr.Interface(health2, [\"text\",\"text\"],[\"text\",\"text\"], title=\"判斷體位狀況\").launch(share=True)"
      ],
      "metadata": {
        "id": "7W5BrXI1CMIC"
      },
      "execution_count": null,
      "outputs": []
    },
    {
      "cell_type": "markdown",
      "source": [
        "#requests 用法\n"
      ],
      "metadata": {
        "id": "_ZczukDvvpV0"
      }
    },
    {
      "cell_type": "code",
      "source": [
        "import requests"
      ],
      "metadata": {
        "id": "5h2CoOQrG-WE"
      },
      "execution_count": 81,
      "outputs": []
    },
    {
      "cell_type": "code",
      "source": [
        "def look(myText):\n",
        "  url=\"https://www.moedict.tw/\"\n",
        "  r = requests.get(url)\n",
        "  print(r.text)\n",
        "  "
      ],
      "metadata": {
        "id": "A2tpaNIAHe-N"
      },
      "execution_count": 102,
      "outputs": []
    },
    {
      "cell_type": "code",
      "source": [
        ""
      ],
      "metadata": {
        "id": "3OcV4rXGgHOh"
      },
      "execution_count": null,
      "outputs": []
    },
    {
      "cell_type": "markdown",
      "source": [
        ""
      ],
      "metadata": {
        "id": "CpcoAiZ4V6gY"
      }
    },
    {
      "cell_type": "markdown",
      "source": [
        "# 爬蟲簡介\n"
      ],
      "metadata": {
        "id": "ZtqFh7jraotG"
      }
    },
    {
      "cell_type": "code",
      "source": [
        "import requests"
      ],
      "metadata": {
        "id": "8HzNcMyOfSmJ"
      },
      "execution_count": 98,
      "outputs": []
    },
    {
      "cell_type": "code",
      "source": [
        "url = \"https://victorgau.github.io/khpy_web_intro/html_only.html\""
      ],
      "metadata": {
        "id": "d2v5LUeEfonZ"
      },
      "execution_count": 99,
      "outputs": []
    },
    {
      "cell_type": "code",
      "source": [
        "r = requests.get(url)"
      ],
      "metadata": {
        "id": "D11GbRPQfuv9"
      },
      "execution_count": 100,
      "outputs": []
    },
    {
      "cell_type": "code",
      "source": [
        "print(r.text)"
      ],
      "metadata": {
        "id": "rViKyDHNf4oz"
      },
      "execution_count": null,
      "outputs": []
    },
    {
      "cell_type": "code",
      "source": [
        "f = open(\"index.html\", \"w\") ##建立寫入檔案\n",
        "f.write(r.text)\n",
        "f.close()  ##記得要關檔close"
      ],
      "metadata": {
        "id": "aY3fQxT2huV6"
      },
      "execution_count": 105,
      "outputs": []
    },
    {
      "cell_type": "code",
      "source": [
        "type(r)"
      ],
      "metadata": {
        "colab": {
          "base_uri": "https://localhost:8080/"
        },
        "id": "YtFxViOygdav",
        "outputId": "e766b10b-ebf1-4181-db59-9cdbf8c96c3e"
      },
      "execution_count": 103,
      "outputs": [
        {
          "output_type": "execute_result",
          "data": {
            "text/plain": [
              "requests.models.Response"
            ]
          },
          "metadata": {},
          "execution_count": 103
        }
      ]
    },
    {
      "cell_type": "code",
      "source": [
        "r.request.headers"
      ],
      "metadata": {
        "id": "Nwz11kWhhUa-"
      },
      "execution_count": null,
      "outputs": []
    },
    {
      "cell_type": "markdown",
      "source": [
        "#web api"
      ],
      "metadata": {
        "id": "c-YTV5qQlB3M"
      }
    },
    {
      "cell_type": "markdown",
      "source": [
        "## json vs dict/list 差別"
      ],
      "metadata": {
        "id": "wM7Ey8vQlsiV"
      }
    },
    {
      "cell_type": "code",
      "source": [
        "d = {}"
      ],
      "metadata": {
        "id": "lURJqLN8l0dO"
      },
      "execution_count": 106,
      "outputs": []
    },
    {
      "cell_type": "code",
      "source": [
        "d[\"cat\"]=\"貓咪\""
      ],
      "metadata": {
        "id": "Cd076LEUl-fM"
      },
      "execution_count": 107,
      "outputs": []
    },
    {
      "cell_type": "code",
      "source": [
        "d[\"dog\"]=\"狗狗\""
      ],
      "metadata": {
        "id": "VPzf8vC3mD5v"
      },
      "execution_count": 108,
      "outputs": []
    },
    {
      "cell_type": "code",
      "source": [
        "d"
      ],
      "metadata": {
        "colab": {
          "base_uri": "https://localhost:8080/"
        },
        "id": "7vTKCAj_mSIU",
        "outputId": "9390b9f3-5e8c-4c82-b98b-5f866a5748a5"
      },
      "execution_count": 109,
      "outputs": [
        {
          "output_type": "execute_result",
          "data": {
            "text/plain": [
              "{'cat': '貓咪', 'dog': '狗狗'}"
            ]
          },
          "metadata": {},
          "execution_count": 109
        }
      ]
    },
    {
      "cell_type": "code",
      "source": [
        "type(d)"
      ],
      "metadata": {
        "colab": {
          "base_uri": "https://localhost:8080/"
        },
        "id": "EzpTNsBwmfrp",
        "outputId": "a3838e14-f1df-47cd-dcf3-73ae34ebfed9"
      },
      "execution_count": 110,
      "outputs": [
        {
          "output_type": "execute_result",
          "data": {
            "text/plain": [
              "dict"
            ]
          },
          "metadata": {},
          "execution_count": 110
        }
      ]
    },
    {
      "cell_type": "code",
      "source": [
        "e = \"{'cat': '貓咪', 'dog': '狗狗'}\" ## json格式看似字典實際是\"字串\""
      ],
      "metadata": {
        "id": "ILlJCxP0mijC"
      },
      "execution_count": 111,
      "outputs": []
    },
    {
      "cell_type": "code",
      "source": [
        "e ='{\"cat\": \"貓咪\", \"dog\": \"狗狗\"}' #標準json格式內容"
      ],
      "metadata": {
        "id": "1LMSiEeyncWT"
      },
      "execution_count": 114,
      "outputs": []
    },
    {
      "cell_type": "code",
      "source": [
        "type(e)"
      ],
      "metadata": {
        "colab": {
          "base_uri": "https://localhost:8080/"
        },
        "id": "uL8xAbeVmm-X",
        "outputId": "952aa387-3b9a-473a-8ae9-976ae369531d"
      },
      "execution_count": 112,
      "outputs": [
        {
          "output_type": "execute_result",
          "data": {
            "text/plain": [
              "str"
            ]
          },
          "metadata": {},
          "execution_count": 112
        }
      ]
    },
    {
      "cell_type": "code",
      "source": [
        "import json"
      ],
      "metadata": {
        "id": "VKo30n6_mq2q"
      },
      "execution_count": 113,
      "outputs": []
    },
    {
      "cell_type": "code",
      "source": [
        "f = json.loads(e)"
      ],
      "metadata": {
        "id": "CyuC9XBqm8QQ"
      },
      "execution_count": 115,
      "outputs": []
    },
    {
      "cell_type": "code",
      "source": [
        "f"
      ],
      "metadata": {
        "colab": {
          "base_uri": "https://localhost:8080/"
        },
        "id": "kn-FVyBnns96",
        "outputId": "c0f23997-e946-449f-843b-e340165a09a9"
      },
      "execution_count": 116,
      "outputs": [
        {
          "output_type": "execute_result",
          "data": {
            "text/plain": [
              "{'cat': '貓咪', 'dog': '狗狗'}"
            ]
          },
          "metadata": {},
          "execution_count": 116
        }
      ]
    },
    {
      "cell_type": "code",
      "source": [
        "type(f)"
      ],
      "metadata": {
        "colab": {
          "base_uri": "https://localhost:8080/"
        },
        "id": "zoinKelxnw6u",
        "outputId": "5b393134-fef6-4165-8ada-c6b66a68dbdc"
      },
      "execution_count": 117,
      "outputs": [
        {
          "output_type": "execute_result",
          "data": {
            "text/plain": [
              "dict"
            ]
          },
          "metadata": {},
          "execution_count": 117
        }
      ]
    },
    {
      "cell_type": "markdown",
      "source": [
        "## 使用萌典API"
      ],
      "metadata": {
        "id": "ncCf1oB_oZUi"
      }
    },
    {
      "cell_type": "code",
      "source": [
        "url=\"https://www.moedict.tw/uni/\""
      ],
      "metadata": {
        "id": "ZQgaaxonoeyK"
      },
      "execution_count": 118,
      "outputs": []
    },
    {
      "cell_type": "code",
      "source": [
        "q = \"教室\""
      ],
      "metadata": {
        "id": "02dHWzQ3oxtS"
      },
      "execution_count": 119,
      "outputs": []
    },
    {
      "cell_type": "code",
      "source": [
        "url+q"
      ],
      "metadata": {
        "colab": {
          "base_uri": "https://localhost:8080/",
          "height": 36
        },
        "id": "aBid4V3Bo2D4",
        "outputId": "fa789e0f-7457-4029-8e93-82ba16247e33"
      },
      "execution_count": 120,
      "outputs": [
        {
          "output_type": "execute_result",
          "data": {
            "text/plain": [
              "'https://www.moedict.tw/uni/教室'"
            ],
            "application/vnd.google.colaboratory.intrinsic+json": {
              "type": "string"
            }
          },
          "metadata": {},
          "execution_count": 120
        }
      ]
    },
    {
      "cell_type": "code",
      "source": [
        "r=requests.get(url+q)"
      ],
      "metadata": {
        "id": "Dn_p0VAko70I"
      },
      "execution_count": 121,
      "outputs": []
    },
    {
      "cell_type": "code",
      "source": [
        "print(r.text) ## 從萌典取得json資料"
      ],
      "metadata": {
        "colab": {
          "base_uri": "https://localhost:8080/"
        },
        "id": "SCL5vaGTpAlf",
        "outputId": "398aca8f-c313-4c89-8b64-dba3d9a8d116"
      },
      "execution_count": 122,
      "outputs": [
        {
          "output_type": "stream",
          "name": "stdout",
          "text": [
            "\t{\n",
            "\t\t\"heteronyms\": [\n",
            "\t\t\t{\n",
            "\t\t\t\t\"bopomofo\": \"ㄐㄧㄠˋ ㄕˋ\",\n",
            "\t\t\t\t\"bopomofo2\": \"jiàu shr̀\",\n",
            "\t\t\t\t\"definitions\": [\n",
            "\t\t\t\t\t{\n",
            "\t\t\t\t\t\t\"def\": \"學校裡進行教學活動的房間。\",\n",
            "\t\t\t\t\t\t\"example\": [\n",
            "\t\t\t\t\t\t\t\"如：「實驗教室」、「音樂教室」。\"\n",
            "\t\t\t\t\t\t],\n",
            "\t\t\t\t\t\t\"synonyms\": \"課堂,講堂\"\n",
            "\t\t\t\t\t}\n",
            "\t\t\t\t],\n",
            "\t\t\t\t\"pinyin\": \"jiào shì\"\n",
            "\t\t\t}\n",
            "\t\t],\n",
            "\t\t\"title\": \"教室\"\n",
            "\t}\n"
          ]
        }
      ]
    },
    {
      "cell_type": "code",
      "source": [
        "data=json.loads(r.text)"
      ],
      "metadata": {
        "id": "tB7Bxm27pRsM"
      },
      "execution_count": 125,
      "outputs": []
    },
    {
      "cell_type": "code",
      "source": [
        "print(data)"
      ],
      "metadata": {
        "colab": {
          "base_uri": "https://localhost:8080/"
        },
        "id": "A9xjW4BKpgFX",
        "outputId": "b721dc08-a8b4-4217-e663-be4a2d129a10"
      },
      "execution_count": 126,
      "outputs": [
        {
          "output_type": "stream",
          "name": "stdout",
          "text": [
            "{'heteronyms': [{'bopomofo': 'ㄐㄧㄠˋ ㄕˋ', 'bopomofo2': 'jiàu shr̀', 'definitions': [{'def': '學校裡進行教學活動的房間。', 'example': ['如：「實驗教室」、「音樂教室」。'], 'synonyms': '課堂,講堂'}], 'pinyin': 'jiào shì'}], 'title': '教室'}\n"
          ]
        }
      ]
    },
    {
      "cell_type": "code",
      "source": [
        "data.keys()"
      ],
      "metadata": {
        "colab": {
          "base_uri": "https://localhost:8080/"
        },
        "id": "4yt_2zoZp5_S",
        "outputId": "0121548f-fdd6-4d62-f7be-29b4c9ffb2c0"
      },
      "execution_count": 131,
      "outputs": [
        {
          "output_type": "execute_result",
          "data": {
            "text/plain": [
              "dict_keys(['heteronyms', 'title'])"
            ]
          },
          "metadata": {},
          "execution_count": 131
        }
      ]
    },
    {
      "cell_type": "code",
      "source": [
        "data['heteronyms']"
      ],
      "metadata": {
        "colab": {
          "base_uri": "https://localhost:8080/"
        },
        "id": "w10Yg3HFqe-F",
        "outputId": "84546689-c7bd-4825-80c8-b9dcb63fbd5e"
      },
      "execution_count": 132,
      "outputs": [
        {
          "output_type": "execute_result",
          "data": {
            "text/plain": [
              "[{'bopomofo': 'ㄐㄧㄠˋ ㄕˋ',\n",
              "  'bopomofo2': 'jiàu shr̀',\n",
              "  'definitions': [{'def': '學校裡進行教學活動的房間。',\n",
              "    'example': ['如：「實驗教室」、「音樂教室」。'],\n",
              "    'synonyms': '課堂,講堂'}],\n",
              "  'pinyin': 'jiào shì'}]"
            ]
          },
          "metadata": {},
          "execution_count": 132
        }
      ]
    },
    {
      "cell_type": "code",
      "source": [
        "data['heteronyms'][0]"
      ],
      "metadata": {
        "colab": {
          "base_uri": "https://localhost:8080/"
        },
        "id": "cJon0FpOqpbA",
        "outputId": "7597dab9-7f0b-46d6-bd3f-729111def776"
      },
      "execution_count": 133,
      "outputs": [
        {
          "output_type": "execute_result",
          "data": {
            "text/plain": [
              "{'bopomofo': 'ㄐㄧㄠˋ ㄕˋ',\n",
              " 'bopomofo2': 'jiàu shr̀',\n",
              " 'definitions': [{'def': '學校裡進行教學活動的房間。',\n",
              "   'example': ['如：「實驗教室」、「音樂教室」。'],\n",
              "   'synonyms': '課堂,講堂'}],\n",
              " 'pinyin': 'jiào shì'}"
            ]
          },
          "metadata": {},
          "execution_count": 133
        }
      ]
    },
    {
      "cell_type": "code",
      "source": [
        "data['heteronyms'][0]['definitions']"
      ],
      "metadata": {
        "colab": {
          "base_uri": "https://localhost:8080/"
        },
        "id": "ADYm3mu7quYI",
        "outputId": "4a97db18-5622-4337-dcee-68c08775e466"
      },
      "execution_count": 134,
      "outputs": [
        {
          "output_type": "execute_result",
          "data": {
            "text/plain": [
              "[{'def': '學校裡進行教學活動的房間。',\n",
              "  'example': ['如：「實驗教室」、「音樂教室」。'],\n",
              "  'synonyms': '課堂,講堂'}]"
            ]
          },
          "metadata": {},
          "execution_count": 134
        }
      ]
    },
    {
      "cell_type": "code",
      "source": [
        "data['heteronyms'][0]['definitions'][0]"
      ],
      "metadata": {
        "colab": {
          "base_uri": "https://localhost:8080/"
        },
        "id": "Wbvb8EX1q43R",
        "outputId": "6e542945-1da4-4cee-858f-7881c29691e1"
      },
      "execution_count": 135,
      "outputs": [
        {
          "output_type": "execute_result",
          "data": {
            "text/plain": [
              "{'def': '學校裡進行教學活動的房間。', 'example': ['如：「實驗教室」、「音樂教室」。'], 'synonyms': '課堂,講堂'}"
            ]
          },
          "metadata": {},
          "execution_count": 135
        }
      ]
    },
    {
      "cell_type": "code",
      "source": [
        "data['heteronyms'][0]['definitions'][0]['def']"
      ],
      "metadata": {
        "colab": {
          "base_uri": "https://localhost:8080/",
          "height": 36
        },
        "id": "UQQ0zAn5q9pF",
        "outputId": "ee9a16be-8ccd-4069-e634-6f6a4a2e2f62"
      },
      "execution_count": 136,
      "outputs": [
        {
          "output_type": "execute_result",
          "data": {
            "text/plain": [
              "'學校裡進行教學活動的房間。'"
            ],
            "application/vnd.google.colaboratory.intrinsic+json": {
              "type": "string"
            }
          },
          "metadata": {},
          "execution_count": 136
        }
      ]
    },
    {
      "cell_type": "code",
      "source": [
        "data=requests.get(url+\"森林\").json()"
      ],
      "metadata": {
        "id": "VzKOrhZgrPop"
      },
      "execution_count": 137,
      "outputs": []
    },
    {
      "cell_type": "code",
      "source": [
        "data['heteronyms'][0]['definitions'][0]['def'] #萌典中文解釋概要"
      ],
      "metadata": {
        "colab": {
          "base_uri": "https://localhost:8080/",
          "height": 36
        },
        "id": "Fff46wVbrgrU",
        "outputId": "9ba6fa1c-4be1-48e6-ce43-0c16c84223d1"
      },
      "execution_count": 138,
      "outputs": [
        {
          "output_type": "execute_result",
          "data": {
            "text/plain": [
              "'樹木密生的寬廣地區。'"
            ],
            "application/vnd.google.colaboratory.intrinsic+json": {
              "type": "string"
            }
          },
          "metadata": {},
          "execution_count": 138
        }
      ]
    },
    {
      "cell_type": "code",
      "source": [
        "def words(myTxt): \n",
        "  data=requests.get(url+myTxt).json()\n",
        "  return data['heteronyms'][0]['definitions'][0]['def']"
      ],
      "metadata": {
        "id": "eEpKwr7pro49"
      },
      "execution_count": 139,
      "outputs": []
    },
    {
      "cell_type": "code",
      "source": [
        "words(\"花園\")"
      ],
      "metadata": {
        "colab": {
          "base_uri": "https://localhost:8080/",
          "height": 36
        },
        "id": "m8r-Lmo1r7uT",
        "outputId": "f789464a-0f38-40ea-f4b0-b71bdb37acfb"
      },
      "execution_count": 144,
      "outputs": [
        {
          "output_type": "execute_result",
          "data": {
            "text/plain": [
              "'有花木亭池，可供遊憩的園子。'"
            ],
            "application/vnd.google.colaboratory.intrinsic+json": {
              "type": "string"
            }
          },
          "metadata": {},
          "execution_count": 144
        }
      ]
    },
    {
      "cell_type": "code",
      "source": [
        "gr.Interface(words, \"text\",\"text\", title=\"國語辭典\").launch(share=True)"
      ],
      "metadata": {
        "id": "kc0qQHWBtcKG"
      },
      "execution_count": null,
      "outputs": []
    },
    {
      "cell_type": "markdown",
      "source": [
        "#作業 寫一個漢英字典\n",
        " * api url=\"https://www.moedict.tw/a/xxxxx.json\""
      ],
      "metadata": {
        "id": "Q49ErJ4lwC5R"
      }
    },
    {
      "cell_type": "code",
      "source": [
        "url=\"https://www.moedict.tw/a/\"\n",
        "q=\"自行車\"\n",
        "data = requests.get(url+q+\".json\").json()"
      ],
      "metadata": {
        "id": "9Mhbf3MFwbxV"
      },
      "execution_count": 155,
      "outputs": []
    },
    {
      "cell_type": "code",
      "source": [
        "data.keys()"
      ],
      "metadata": {
        "colab": {
          "base_uri": "https://localhost:8080/"
        },
        "id": "9rv9FmV5w9tV",
        "outputId": "eb81847d-ca72-4535-ab7d-e7e3d031aced"
      },
      "execution_count": 149,
      "outputs": [
        {
          "output_type": "execute_result",
          "data": {
            "text/plain": [
              "dict_keys(['Deutsch', 'English', 'francais', 'h', 't', 'translation'])"
            ]
          },
          "metadata": {},
          "execution_count": 149
        }
      ]
    },
    {
      "cell_type": "code",
      "source": [
        "data"
      ],
      "metadata": {
        "id": "_3Cow0cCxeL6"
      },
      "execution_count": null,
      "outputs": []
    },
    {
      "cell_type": "code",
      "source": [
        "data['English']"
      ],
      "metadata": {
        "colab": {
          "base_uri": "https://localhost:8080/",
          "height": 36
        },
        "id": "eoZdfrs2xQJ_",
        "outputId": "79ef2dcc-63d4-4ba7-d99d-cb136656abaf"
      },
      "execution_count": 156,
      "outputs": [
        {
          "output_type": "execute_result",
          "data": {
            "text/plain": [
              "'bicycle'"
            ],
            "application/vnd.google.colaboratory.intrinsic+json": {
              "type": "string"
            }
          },
          "metadata": {},
          "execution_count": 156
        }
      ]
    },
    {
      "cell_type": "code",
      "source": [
        "def chtoeng(words):\n",
        "  url=\"https://www.moedict.tw/a/\"\n",
        "\n",
        "  data = requests.get(url+words+\".json\").json()\n",
        "  return data['English']"
      ],
      "metadata": {
        "id": "grabVbQ-yhe7"
      },
      "execution_count": 157,
      "outputs": []
    },
    {
      "cell_type": "code",
      "source": [
        "chtoeng(\"學校\")"
      ],
      "metadata": {
        "colab": {
          "base_uri": "https://localhost:8080/",
          "height": 36
        },
        "id": "-M5t75nsy3ew",
        "outputId": "aa834356-e6db-44dc-bd75-85f9fa2c313d"
      },
      "execution_count": 158,
      "outputs": [
        {
          "output_type": "execute_result",
          "data": {
            "text/plain": [
              "'school'"
            ],
            "application/vnd.google.colaboratory.intrinsic+json": {
              "type": "string"
            }
          },
          "metadata": {},
          "execution_count": 158
        }
      ]
    },
    {
      "cell_type": "markdown",
      "source": [
        "#分析台北uBike站點\n",
        " * url=\"https://tcgbusfs.blob.core.windows.net/dotapp/youbike/v2/youbike_immediate.json\""
      ],
      "metadata": {
        "id": "I_mwhVDVzHUz"
      }
    },
    {
      "cell_type": "code",
      "source": [
        "url=\"https://tcgbusfs.blob.core.windows.net/dotapp/youbike/v2/youbike_immediate.json\"\n",
        "data = requests.get(url).json()\n"
      ],
      "metadata": {
        "id": "tv-ZV3U9z7yq"
      },
      "execution_count": 160,
      "outputs": []
    },
    {
      "cell_type": "code",
      "source": [
        "data"
      ],
      "metadata": {
        "id": "D8fl5eEi0YHu"
      },
      "execution_count": null,
      "outputs": []
    },
    {
      "cell_type": "markdown",
      "source": [
        "## BeautifualSoup使用簡介\n",
        "\n",
        "\n"
      ],
      "metadata": {
        "id": "OWeeeYDKb3Zi"
      }
    },
    {
      "cell_type": "markdown",
      "source": [
        " * ex1 範例1"
      ],
      "metadata": {
        "id": "37-nQ7Qg3jF3"
      }
    },
    {
      "cell_type": "code",
      "source": [
        "#多行取用需用3組\"\"\" \"\"\"\n",
        "page=\"\"\" \n",
        "<!DOCTYPE html>\n",
        "<html>\n",
        "<head>\n",
        "    <title>HTML範例</title>\n",
        "</head>\n",
        "<body>\n",
        "\n",
        "<h1>哈囉！HTML！</h1>\n",
        "\n",
        "<img src=\"ninja.jpg\" />\n",
        "\n",
        "</body>\n",
        "</html> \n",
        "\n",
        "\n",
        "\n",
        "\"\"\"  "
      ],
      "metadata": {
        "id": "7MgSXabF0wcV"
      },
      "execution_count": 165,
      "outputs": []
    },
    {
      "cell_type": "code",
      "source": [
        "from bs4 import BeautifulSoup"
      ],
      "metadata": {
        "id": "5UpHmGH81sUg"
      },
      "execution_count": 164,
      "outputs": []
    },
    {
      "cell_type": "code",
      "source": [
        "soup= BeautifulSoup(page)"
      ],
      "metadata": {
        "id": "P6QK_ykr2Khq"
      },
      "execution_count": 166,
      "outputs": []
    },
    {
      "cell_type": "code",
      "source": [
        "soup.title"
      ],
      "metadata": {
        "colab": {
          "base_uri": "https://localhost:8080/"
        },
        "id": "-KoLEr_-2seL",
        "outputId": "5bc9cc4a-cd8e-41da-c453-1f6b004b2ea3"
      },
      "execution_count": 168,
      "outputs": [
        {
          "output_type": "execute_result",
          "data": {
            "text/plain": [
              "<title>HTML範例</title>"
            ]
          },
          "metadata": {},
          "execution_count": 168
        }
      ]
    },
    {
      "cell_type": "code",
      "source": [
        "soup.title.text\n"
      ],
      "metadata": {
        "colab": {
          "base_uri": "https://localhost:8080/",
          "height": 36
        },
        "id": "1A91E2PV25q0",
        "outputId": "94e40f8c-6974-4cbf-9e9b-d49a28acc8bb"
      },
      "execution_count": 169,
      "outputs": [
        {
          "output_type": "execute_result",
          "data": {
            "text/plain": [
              "'HTML範例'"
            ],
            "application/vnd.google.colaboratory.intrinsic+json": {
              "type": "string"
            }
          },
          "metadata": {},
          "execution_count": 169
        }
      ]
    },
    {
      "cell_type": "markdown",
      "source": [
        " * ex2 範例2"
      ],
      "metadata": {
        "id": "TR77MmgG3m9U"
      }
    },
    {
      "cell_type": "code",
      "source": [
        "page=\"\"\"<!DOCTYPE html>\n",
        "<html>\n",
        "<head>\n",
        "    <title>這是範例一</title>\n",
        "</head>\n",
        "<body>\n",
        "\n",
        "<h1>哈囉！HTML！</h1>\n",
        "\n",
        "<div class=\"class1\">\n",
        "    <p>這是第一個p標籤內容！</p>\n",
        "    <p>這是第二個p標籤內容！</p>\n",
        "</div>\n",
        "\n",
        "<div class=\"class2\">\n",
        "    <p>這是第三個p標籤內容！</p>\n",
        "    <p>這是第四個p標籤內容！</p>\n",
        "</div>\n",
        "</body>\n",
        "</html> \"\"\""
      ],
      "metadata": {
        "id": "NmxQ3KYS3pp2"
      },
      "execution_count": 170,
      "outputs": []
    },
    {
      "cell_type": "code",
      "source": [
        "soup= BeautifulSoup(page)"
      ],
      "metadata": {
        "id": "P_I3G3Kw33qB"
      },
      "execution_count": 171,
      "outputs": []
    },
    {
      "cell_type": "code",
      "source": [
        "soup.select('p')"
      ],
      "metadata": {
        "colab": {
          "base_uri": "https://localhost:8080/"
        },
        "id": "ABHDvUHi39An",
        "outputId": "4ad32326-df21-4bf1-8b29-a377c54d5632"
      },
      "execution_count": 172,
      "outputs": [
        {
          "output_type": "execute_result",
          "data": {
            "text/plain": [
              "[<p>這是第一個p標籤內容！</p>,\n",
              " <p>這是第二個p標籤內容！</p>,\n",
              " <p>這是第三個p標籤內容！</p>,\n",
              " <p>這是第四個p標籤內容！</p>]"
            ]
          },
          "metadata": {},
          "execution_count": 172
        }
      ]
    },
    {
      "cell_type": "markdown",
      "source": [
        "##selenium BeautifualSoup\n",
        "selenium IDE"
      ],
      "metadata": {
        "id": "GvAssF9Mb7zQ"
      }
    },
    {
      "cell_type": "markdown",
      "source": [
        "##pandas dataFrame"
      ],
      "metadata": {
        "id": "JvGSftHAcIJX"
      }
    }
  ]
}