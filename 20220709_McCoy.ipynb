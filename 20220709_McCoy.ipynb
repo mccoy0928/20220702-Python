{
  "nbformat": 4,
  "nbformat_minor": 0,
  "metadata": {
    "colab": {
      "name": "20220709_McCoy.ipynb",
      "provenance": [],
      "authorship_tag": "ABX9TyNCdtY58Vqkq3IYIMTPepcx",
      "include_colab_link": true
    },
    "kernelspec": {
      "name": "python3",
      "display_name": "Python 3"
    },
    "language_info": {
      "name": "python"
    }
  },
  "cells": [
    {
      "cell_type": "markdown",
      "metadata": {
        "id": "view-in-github",
        "colab_type": "text"
      },
      "source": [
        "<a href=\"https://colab.research.google.com/github/mccoy0928/20220702-Python/blob/main/20220709_McCoy.ipynb\" target=\"_parent\"><img src=\"https://colab.research.google.com/assets/colab-badge.svg\" alt=\"Open In Colab\"/></a>"
      ]
    },
    {
      "cell_type": "code",
      "execution_count": null,
      "metadata": {
        "id": "_PV8OiKlfwSs"
      },
      "outputs": [],
      "source": [
        ""
      ]
    }
  ]
}