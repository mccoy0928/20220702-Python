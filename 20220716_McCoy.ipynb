{
  "nbformat": 4,
  "nbformat_minor": 0,
  "metadata": {
    "colab": {
      "name": "20220716_McCoy.ipynb",
      "provenance": [],
      "collapsed_sections": [],
      "authorship_tag": "ABX9TyMqqlejSKStPRvM5wifNXfn",
      "include_colab_link": true
    },
    "kernelspec": {
      "name": "python3",
      "display_name": "Python 3"
    },
    "language_info": {
      "name": "python"
    },
    "accelerator": "TPU",
    "gpuClass": "standard"
  },
  "cells": [
    {
      "cell_type": "markdown",
      "metadata": {
        "id": "view-in-github",
        "colab_type": "text"
      },
      "source": [
        "<a href=\"https://colab.research.google.com/github/mccoy0928/20220702-Python/blob/main/20220716_McCoy.ipynb\" target=\"_parent\"><img src=\"https://colab.research.google.com/assets/colab-badge.svg\" alt=\"Open In Colab\"/></a>"
      ]
    },
    {
      "cell_type": "markdown",
      "source": [
        "# https://zerojudge.tw/ 可練習寫寫"
      ],
      "metadata": {
        "id": "ZO4yzRVjlYxJ"
      }
    },
    {
      "cell_type": "markdown",
      "source": [
        "![messageImage_1657934866706.jpg](data:image/jpeg;base64,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)"
      ],
      "metadata": {
        "id": "0QkF_7Upnpj7"
      }
    },
    {
      "cell_type": "markdown",
      "source": [
        "# 基本語法\n",
        "## 基本語法\n",
        "### 基本語法\n",
        "* 迴圈 loops\n",
        "* 函式 functions\n",
        "* 條件式 if statements\n",
        "* 例外處理 Exception Handling"
      ],
      "metadata": {
        "id": "xwE7GI53xIen"
      }
    },
    {
      "cell_type": "markdown",
      "source": [
        "### 例外處理"
      ],
      "metadata": {
        "id": "I9lhVTFFyATh"
      }
    },
    {
      "cell_type": "code",
      "source": [
        "def add(x, y):\n",
        "  print(f\"{x}+{y}={x+y}\")\n",
        "def sub(x, y):\n",
        "  print(f\"{x}-{y}={x-y}\")\n",
        "def mul(x, y):\n",
        "  print(f\"{x}*{y}={x*y}\")\n",
        "def div(x, y):\n",
        "  print(f\"{x}/{y}={x/y}\")"
      ],
      "metadata": {
        "id": "SCs9A1CJx9pM"
      },
      "execution_count": 8,
      "outputs": []
    },
    {
      "cell_type": "code",
      "source": [
        "functions = [add, div, mul, sub]"
      ],
      "metadata": {
        "id": "vZy7B-acyYAN"
      },
      "execution_count": 9,
      "outputs": []
    },
    {
      "cell_type": "code",
      "source": [
        "x=5\n",
        "y=2\n",
        "for func in functions:\n",
        "  func(x, y)"
      ],
      "metadata": {
        "colab": {
          "base_uri": "https://localhost:8080/"
        },
        "id": "ep-GrCMWzY_O",
        "outputId": "4c73911e-305b-4e50-e453-345283f89c93"
      },
      "execution_count": 10,
      "outputs": [
        {
          "output_type": "stream",
          "name": "stdout",
          "text": [
            "5+2=7\n",
            "5/2=2.5\n",
            "5*2=10\n",
            "5-2=3\n"
          ]
        }
      ]
    },
    {
      "cell_type": "code",
      "source": [
        "x=5\n",
        "y=0\n",
        "for func in functions:\n",
        "  try :\n",
        "    func(x, y)\n",
        "  except Exception as e:\n",
        "    print(e.args)"
      ],
      "metadata": {
        "colab": {
          "base_uri": "https://localhost:8080/"
        },
        "id": "u0cnclUp0FTS",
        "outputId": "083081b4-22ef-4dc4-afe6-4ebd40e5162b"
      },
      "execution_count": 11,
      "outputs": [
        {
          "output_type": "stream",
          "name": "stdout",
          "text": [
            "5+0=5\n",
            "('division by zero',)\n",
            "5*0=0\n",
            "5-0=5\n"
          ]
        }
      ]
    },
    {
      "cell_type": "markdown",
      "source": [
        "# 20220716 資料分析\n",
        "\n",
        "* Numpy  \n",
        " * ==>科學運算基礎套件\n",
        "* MatPlotLib \n",
        " * ==>Matrix Plotting Library繪圖基礎套件\n",
        "* Pandas \n",
        " * ==> Panel Datas 資料分析套件"
      ],
      "metadata": {
        "id": "aQARl8tbn0Sj"
      }
    },
    {
      "cell_type": "markdown",
      "source": [
        "```\n",
        "import numpy as np\n",
        "import matplotlib.pyplot as plt\n",
        "import pandas as pd\n",
        "\n",
        "```"
      ],
      "metadata": {
        "id": "M9OzXhReqnn1"
      }
    },
    {
      "cell_type": "markdown",
      "source": [
        "## Numpy\n",
        "* new data type\n",
        " * ndarray\n",
        "* new functions to process data\n",
        " * ufunc=>Universal Functions"
      ],
      "metadata": {
        "id": "8tZousqZqAha"
      }
    },
    {
      "cell_type": "code",
      "execution_count": 12,
      "metadata": {
        "id": "r-xlhVK8iQSC"
      },
      "outputs": [],
      "source": [
        "import numpy as np\n",
        "import matplotlib.pyplot as plt\n",
        "import pandas as pd"
      ]
    },
    {
      "cell_type": "markdown",
      "source": [
        "# 執行原生python遇上的問題"
      ],
      "metadata": {
        "id": "iP-82fnbtY_8"
      }
    },
    {
      "cell_type": "code",
      "source": [
        "x1 = [1, 2, 3]\n",
        "x2 = [4, 5, 6]"
      ],
      "metadata": {
        "id": "T4DJ8SPOrhyw"
      },
      "execution_count": 13,
      "outputs": []
    },
    {
      "cell_type": "code",
      "source": [
        "x1+x2 #把x1&x2當成list處理相加"
      ],
      "metadata": {
        "colab": {
          "base_uri": "https://localhost:8080/"
        },
        "id": "C6cXpnHlsB42",
        "outputId": "61c51a27-4469-4eea-e695-527c59feb902"
      },
      "execution_count": 14,
      "outputs": [
        {
          "output_type": "execute_result",
          "data": {
            "text/plain": [
              "[1, 2, 3, 4, 5, 6]"
            ]
          },
          "metadata": {},
          "execution_count": 14
        }
      ]
    },
    {
      "cell_type": "code",
      "source": [
        "# 向量相加\n",
        "x3=[]\n",
        "for i, j in zip(x1, x2):\n",
        "  x3.append(i + j)\n",
        "x3 # 真實會要的向量相加"
      ],
      "metadata": {
        "colab": {
          "base_uri": "https://localhost:8080/"
        },
        "id": "ehOEiXY2s5D1",
        "outputId": "1f71dc2d-a935-431c-ef9d-749c85ed736b"
      },
      "execution_count": 15,
      "outputs": [
        {
          "output_type": "execute_result",
          "data": {
            "text/plain": [
              "[5, 7, 9]"
            ]
          },
          "metadata": {},
          "execution_count": 15
        }
      ]
    },
    {
      "cell_type": "markdown",
      "source": [
        "# Numpy用來做甚麼"
      ],
      "metadata": {
        "id": "pNJBb6Jz1-iX"
      }
    },
    {
      "cell_type": "markdown",
      "source": [
        "### ndarray 多維陣列"
      ],
      "metadata": {
        "id": "unSI4eVt2wYm"
      }
    },
    {
      "cell_type": "code",
      "source": [
        "import numpy as np"
      ],
      "metadata": {
        "id": "-DGkJX8vwIIO"
      },
      "execution_count": 16,
      "outputs": []
    },
    {
      "cell_type": "code",
      "source": [
        "x1"
      ],
      "metadata": {
        "colab": {
          "base_uri": "https://localhost:8080/"
        },
        "id": "zcAlaa8S2JIw",
        "outputId": "81ffe0fb-1535-4aec-b7b3-cf34d5712d4d"
      },
      "execution_count": 17,
      "outputs": [
        {
          "output_type": "execute_result",
          "data": {
            "text/plain": [
              "[1, 2, 3]"
            ]
          },
          "metadata": {},
          "execution_count": 17
        }
      ]
    },
    {
      "cell_type": "code",
      "source": [
        "x2"
      ],
      "metadata": {
        "colab": {
          "base_uri": "https://localhost:8080/"
        },
        "id": "L93wf2Gq2OIj",
        "outputId": "33870849-ce3c-42ae-ddb0-71576354fe98"
      },
      "execution_count": 30,
      "outputs": [
        {
          "output_type": "execute_result",
          "data": {
            "text/plain": [
              "[4, 5, 6]"
            ]
          },
          "metadata": {},
          "execution_count": 30
        }
      ]
    },
    {
      "cell_type": "code",
      "source": [
        "y1 =np.array(x1)\n",
        "y2 = np.array(x2)"
      ],
      "metadata": {
        "id": "AdhSq9JD2QII"
      },
      "execution_count": 19,
      "outputs": []
    },
    {
      "cell_type": "code",
      "source": [
        "y1+y2"
      ],
      "metadata": {
        "colab": {
          "base_uri": "https://localhost:8080/"
        },
        "id": "go33oK4h2bpz",
        "outputId": "ba054351-55c6-45d2-dac7-9438c71a99cf"
      },
      "execution_count": 29,
      "outputs": [
        {
          "output_type": "execute_result",
          "data": {
            "text/plain": [
              "array([5, 7, 9])"
            ]
          },
          "metadata": {},
          "execution_count": 29
        }
      ]
    },
    {
      "cell_type": "code",
      "source": [
        "2*y1"
      ],
      "metadata": {
        "colab": {
          "base_uri": "https://localhost:8080/"
        },
        "id": "cG_lcV732f37",
        "outputId": "23a696d3-c0cf-4710-92f1-9134ff1ac824"
      },
      "execution_count": 28,
      "outputs": [
        {
          "output_type": "execute_result",
          "data": {
            "text/plain": [
              "array([2, 4, 6])"
            ]
          },
          "metadata": {},
          "execution_count": 28
        }
      ]
    },
    {
      "cell_type": "markdown",
      "source": [
        "### ufunc 通用函式"
      ],
      "metadata": {
        "id": "5D3KJQDf22k6"
      }
    },
    {
      "cell_type": "code",
      "source": [
        "# 在原生python中\n",
        "import math"
      ],
      "metadata": {
        "id": "BL7ZjlGk26v8"
      },
      "execution_count": 27,
      "outputs": []
    },
    {
      "cell_type": "code",
      "source": [
        "math.sin(math.pi/2)"
      ],
      "metadata": {
        "colab": {
          "base_uri": "https://localhost:8080/"
        },
        "id": "w0aLypgo3Pf0",
        "outputId": "9e197d22-aeee-4539-9b14-c2f1aa85d220"
      },
      "execution_count": 23,
      "outputs": [
        {
          "output_type": "execute_result",
          "data": {
            "text/plain": [
              "1.0"
            ]
          },
          "metadata": {},
          "execution_count": 23
        }
      ]
    },
    {
      "cell_type": "code",
      "source": [
        "math.sin(1)"
      ],
      "metadata": {
        "colab": {
          "base_uri": "https://localhost:8080/"
        },
        "id": "NxCOPgaH5kZG",
        "outputId": "fe6ebd6a-efee-498a-91d0-d005c14420ae"
      },
      "execution_count": 24,
      "outputs": [
        {
          "output_type": "execute_result",
          "data": {
            "text/plain": [
              "0.8414709848078965"
            ]
          },
          "metadata": {},
          "execution_count": 24
        }
      ]
    },
    {
      "cell_type": "code",
      "source": [
        "math.sin(x1)"
      ],
      "metadata": {
        "colab": {
          "base_uri": "https://localhost:8080/",
          "height": 172
        },
        "id": "-BwdLPlu3bI7",
        "outputId": "152a1192-69a9-4a49-866a-c42d1ff3cb36"
      },
      "execution_count": 26,
      "outputs": [
        {
          "output_type": "error",
          "ename": "TypeError",
          "evalue": "ignored",
          "traceback": [
            "\u001b[0;31m---------------------------------------------------------------------------\u001b[0m",
            "\u001b[0;31mTypeError\u001b[0m                                 Traceback (most recent call last)",
            "\u001b[0;32m<ipython-input-26-32873346804c>\u001b[0m in \u001b[0;36m<module>\u001b[0;34m()\u001b[0m\n\u001b[0;32m----> 1\u001b[0;31m \u001b[0mmath\u001b[0m\u001b[0;34m.\u001b[0m\u001b[0msin\u001b[0m\u001b[0;34m(\u001b[0m\u001b[0mx1\u001b[0m\u001b[0;34m)\u001b[0m\u001b[0;34m\u001b[0m\u001b[0;34m\u001b[0m\u001b[0m\n\u001b[0m",
            "\u001b[0;31mTypeError\u001b[0m: must be real number, not list"
          ]
        }
      ]
    },
    {
      "cell_type": "code",
      "source": [
        "# 在numpy中\n",
        "np.sin(x1)"
      ],
      "metadata": {
        "id": "YSfRV8TJ3mrQ"
      },
      "execution_count": null,
      "outputs": []
    },
    {
      "cell_type": "code",
      "source": [
        "np.sin(np.pi/2)"
      ],
      "metadata": {
        "id": "9n8mNEjh32zG"
      },
      "execution_count": null,
      "outputs": []
    },
    {
      "cell_type": "markdown",
      "source": [
        "### 什麼地方會用到ndarrary"
      ],
      "metadata": {
        "id": "VE_BggqQ5zej"
      }
    },
    {
      "cell_type": "code",
      "source": [
        "import cv2"
      ],
      "metadata": {
        "id": "mRAjRaAi6MYc"
      },
      "execution_count": null,
      "outputs": []
    },
    {
      "cell_type": "code",
      "source": [
        "im = cv2.imread('test.jpg')  #image read"
      ],
      "metadata": {
        "id": "oVr7j9Os6P06"
      },
      "execution_count": null,
      "outputs": []
    },
    {
      "cell_type": "code",
      "source": [
        "type(im)"
      ],
      "metadata": {
        "id": "Mjue2KYC6upL"
      },
      "execution_count": null,
      "outputs": []
    },
    {
      "cell_type": "code",
      "source": [
        "import matplotlib.pyplot as plt"
      ],
      "metadata": {
        "id": "SIrXMC_H6ytb"
      },
      "execution_count": null,
      "outputs": []
    },
    {
      "cell_type": "code",
      "source": [
        "plt.imshow(im)"
      ],
      "metadata": {
        "id": "Xo96W0bg63UY"
      },
      "execution_count": null,
      "outputs": []
    },
    {
      "cell_type": "markdown",
      "source": [
        "# 如何用python畫地圖"
      ],
      "metadata": {
        "id": "-6NE-er5-HmX"
      }
    },
    {
      "cell_type": "markdown",
      "source": [
        "## LBS:Location-Based service\n",
        "Folium\n",
        "https://python-visualization.github.io/folium/quickstart.html#Getting-Started"
      ],
      "metadata": {
        "id": "0XC9BaOc-V4t"
      }
    },
    {
      "cell_type": "code",
      "source": [
        "import folium\n",
        "m = folium.Map(location=[22.6273, 120.304], zoom_start=16)"
      ],
      "metadata": {
        "id": "-J2UGGx9-RF1"
      },
      "execution_count": 31,
      "outputs": []
    },
    {
      "cell_type": "code",
      "source": [
        "m"
      ],
      "metadata": {
        "colab": {
          "base_uri": "https://localhost:8080/",
          "height": 484
        },
        "id": "EUanbBws-vv6",
        "outputId": "bd07e08b-d20c-45e9-8c2e-1c2ff5d643b7"
      },
      "execution_count": 32,
      "outputs": [
        {
          "output_type": "execute_result",
          "data": {
            "text/plain": [
              "<folium.folium.Map at 0x7f51be53a290>"
            ],
            "text/html": [
              "<div style=\"width:100%;\"><div style=\"position:relative;width:100%;height:0;padding-bottom:60%;\"><span style=\"color:#565656\">Make this Notebook Trusted to load map: File -> Trust Notebook</span><iframe srcdoc=\"&lt;!DOCTYPE html&gt;\n",
              "&lt;head&gt;    \n",
              "    &lt;meta http-equiv=&quot;content-type&quot; content=&quot;text/html; charset=UTF-8&quot; /&gt;\n",
              "    &lt;script&gt;L_PREFER_CANVAS=false; L_NO_TOUCH=false; L_DISABLE_3D=false;&lt;/script&gt;\n",
              "    &lt;script src=&quot;https://cdn.jsdelivr.net/npm/leaflet@1.4.0/dist/leaflet.js&quot;&gt;&lt;/script&gt;\n",
              "    &lt;script src=&quot;https://code.jquery.com/jquery-1.12.4.min.js&quot;&gt;&lt;/script&gt;\n",
              "    &lt;script src=&quot;https://maxcdn.bootstrapcdn.com/bootstrap/3.2.0/js/bootstrap.min.js&quot;&gt;&lt;/script&gt;\n",
              "    &lt;script src=&quot;https://cdnjs.cloudflare.com/ajax/libs/Leaflet.awesome-markers/2.0.2/leaflet.awesome-markers.js&quot;&gt;&lt;/script&gt;\n",
              "    &lt;link rel=&quot;stylesheet&quot; href=&quot;https://cdn.jsdelivr.net/npm/leaflet@1.4.0/dist/leaflet.css&quot;/&gt;\n",
              "    &lt;link rel=&quot;stylesheet&quot; href=&quot;https://maxcdn.bootstrapcdn.com/bootstrap/3.2.0/css/bootstrap.min.css&quot;/&gt;\n",
              "    &lt;link rel=&quot;stylesheet&quot; href=&quot;https://maxcdn.bootstrapcdn.com/bootstrap/3.2.0/css/bootstrap-theme.min.css&quot;/&gt;\n",
              "    &lt;link rel=&quot;stylesheet&quot; href=&quot;https://maxcdn.bootstrapcdn.com/font-awesome/4.6.3/css/font-awesome.min.css&quot;/&gt;\n",
              "    &lt;link rel=&quot;stylesheet&quot; href=&quot;https://cdnjs.cloudflare.com/ajax/libs/Leaflet.awesome-markers/2.0.2/leaflet.awesome-markers.css&quot;/&gt;\n",
              "    &lt;link rel=&quot;stylesheet&quot; href=&quot;https://rawcdn.githack.com/python-visualization/folium/master/folium/templates/leaflet.awesome.rotate.css&quot;/&gt;\n",
              "    &lt;style&gt;html, body {width: 100%;height: 100%;margin: 0;padding: 0;}&lt;/style&gt;\n",
              "    &lt;style&gt;#map {position:absolute;top:0;bottom:0;right:0;left:0;}&lt;/style&gt;\n",
              "    \n",
              "    &lt;meta name=&quot;viewport&quot; content=&quot;width=device-width,\n",
              "        initial-scale=1.0, maximum-scale=1.0, user-scalable=no&quot; /&gt;\n",
              "    &lt;style&gt;#map_8820e979edc1fef9001b300806eca090 {\n",
              "        position: relative;\n",
              "        width: 100.0%;\n",
              "        height: 100.0%;\n",
              "        left: 0.0%;\n",
              "        top: 0.0%;\n",
              "        }\n",
              "    &lt;/style&gt;\n",
              "&lt;/head&gt;\n",
              "&lt;body&gt;    \n",
              "    \n",
              "    &lt;div class=&quot;folium-map&quot; id=&quot;map_8820e979edc1fef9001b300806eca090&quot; &gt;&lt;/div&gt;\n",
              "&lt;/body&gt;\n",
              "&lt;script&gt;    \n",
              "    \n",
              "    \n",
              "        var bounds = null;\n",
              "    \n",
              "\n",
              "    var map_8820e979edc1fef9001b300806eca090 = L.map(\n",
              "        &#x27;map_8820e979edc1fef9001b300806eca090&#x27;, {\n",
              "        center: [22.6273, 120.304],\n",
              "        zoom: 16,\n",
              "        maxBounds: bounds,\n",
              "        layers: [],\n",
              "        worldCopyJump: false,\n",
              "        crs: L.CRS.EPSG3857,\n",
              "        zoomControl: true,\n",
              "        });\n",
              "\n",
              "\n",
              "    \n",
              "    var tile_layer_3b1115fbc4e4a5a7ab46219d44214d5d = L.tileLayer(\n",
              "        &#x27;https://{s}.tile.openstreetmap.org/{z}/{x}/{y}.png&#x27;,\n",
              "        {\n",
              "        &quot;attribution&quot;: null,\n",
              "        &quot;detectRetina&quot;: false,\n",
              "        &quot;maxNativeZoom&quot;: 18,\n",
              "        &quot;maxZoom&quot;: 18,\n",
              "        &quot;minZoom&quot;: 0,\n",
              "        &quot;noWrap&quot;: false,\n",
              "        &quot;opacity&quot;: 1,\n",
              "        &quot;subdomains&quot;: &quot;abc&quot;,\n",
              "        &quot;tms&quot;: false\n",
              "}).addTo(map_8820e979edc1fef9001b300806eca090);\n",
              "&lt;/script&gt;\" style=\"position:absolute;width:100%;height:100%;left:0;top:0;border:none !important;\" allowfullscreen webkitallowfullscreen mozallowfullscreen></iframe></div></div>"
            ]
          },
          "metadata": {},
          "execution_count": 32
        }
      ]
    },
    {
      "cell_type": "code",
      "source": [
        "# 存網頁\n",
        "m.save(\"map.html\")"
      ],
      "metadata": {
        "id": "ohePzahoB3B8"
      },
      "execution_count": 33,
      "outputs": []
    },
    {
      "cell_type": "code",
      "source": [
        "m = folium.Map(location=[22.6273, 120.314], zoom_start=16)\n",
        "folium.Marker([22.6273, 120.314], popup=\"高雄市\").add_to(m)\n",
        "m\n",
        "#m.save(\"map.html\")"
      ],
      "metadata": {
        "colab": {
          "base_uri": "https://localhost:8080/",
          "height": 484
        },
        "id": "BEeCaKsQCT_k",
        "outputId": "05d0983e-4ef9-450c-e4af-3c567d9e83d9"
      },
      "execution_count": 34,
      "outputs": [
        {
          "output_type": "execute_result",
          "data": {
            "text/plain": [
              "<folium.folium.Map at 0x7f51b1e2f310>"
            ],
            "text/html": [
              "<div style=\"width:100%;\"><div style=\"position:relative;width:100%;height:0;padding-bottom:60%;\"><span style=\"color:#565656\">Make this Notebook Trusted to load map: File -> Trust Notebook</span><iframe srcdoc=\"&lt;!DOCTYPE html&gt;\n",
              "&lt;head&gt;    \n",
              "    &lt;meta http-equiv=&quot;content-type&quot; content=&quot;text/html; charset=UTF-8&quot; /&gt;\n",
              "    &lt;script&gt;L_PREFER_CANVAS=false; L_NO_TOUCH=false; L_DISABLE_3D=false;&lt;/script&gt;\n",
              "    &lt;script src=&quot;https://cdn.jsdelivr.net/npm/leaflet@1.4.0/dist/leaflet.js&quot;&gt;&lt;/script&gt;\n",
              "    &lt;script src=&quot;https://code.jquery.com/jquery-1.12.4.min.js&quot;&gt;&lt;/script&gt;\n",
              "    &lt;script src=&quot;https://maxcdn.bootstrapcdn.com/bootstrap/3.2.0/js/bootstrap.min.js&quot;&gt;&lt;/script&gt;\n",
              "    &lt;script src=&quot;https://cdnjs.cloudflare.com/ajax/libs/Leaflet.awesome-markers/2.0.2/leaflet.awesome-markers.js&quot;&gt;&lt;/script&gt;\n",
              "    &lt;link rel=&quot;stylesheet&quot; href=&quot;https://cdn.jsdelivr.net/npm/leaflet@1.4.0/dist/leaflet.css&quot;/&gt;\n",
              "    &lt;link rel=&quot;stylesheet&quot; href=&quot;https://maxcdn.bootstrapcdn.com/bootstrap/3.2.0/css/bootstrap.min.css&quot;/&gt;\n",
              "    &lt;link rel=&quot;stylesheet&quot; href=&quot;https://maxcdn.bootstrapcdn.com/bootstrap/3.2.0/css/bootstrap-theme.min.css&quot;/&gt;\n",
              "    &lt;link rel=&quot;stylesheet&quot; href=&quot;https://maxcdn.bootstrapcdn.com/font-awesome/4.6.3/css/font-awesome.min.css&quot;/&gt;\n",
              "    &lt;link rel=&quot;stylesheet&quot; href=&quot;https://cdnjs.cloudflare.com/ajax/libs/Leaflet.awesome-markers/2.0.2/leaflet.awesome-markers.css&quot;/&gt;\n",
              "    &lt;link rel=&quot;stylesheet&quot; href=&quot;https://rawcdn.githack.com/python-visualization/folium/master/folium/templates/leaflet.awesome.rotate.css&quot;/&gt;\n",
              "    &lt;style&gt;html, body {width: 100%;height: 100%;margin: 0;padding: 0;}&lt;/style&gt;\n",
              "    &lt;style&gt;#map {position:absolute;top:0;bottom:0;right:0;left:0;}&lt;/style&gt;\n",
              "    \n",
              "    &lt;meta name=&quot;viewport&quot; content=&quot;width=device-width,\n",
              "        initial-scale=1.0, maximum-scale=1.0, user-scalable=no&quot; /&gt;\n",
              "    &lt;style&gt;#map_a0212870c1f5eb80d35e299e87dd9ce7 {\n",
              "        position: relative;\n",
              "        width: 100.0%;\n",
              "        height: 100.0%;\n",
              "        left: 0.0%;\n",
              "        top: 0.0%;\n",
              "        }\n",
              "    &lt;/style&gt;\n",
              "&lt;/head&gt;\n",
              "&lt;body&gt;    \n",
              "    \n",
              "    &lt;div class=&quot;folium-map&quot; id=&quot;map_a0212870c1f5eb80d35e299e87dd9ce7&quot; &gt;&lt;/div&gt;\n",
              "&lt;/body&gt;\n",
              "&lt;script&gt;    \n",
              "    \n",
              "    \n",
              "        var bounds = null;\n",
              "    \n",
              "\n",
              "    var map_a0212870c1f5eb80d35e299e87dd9ce7 = L.map(\n",
              "        &#x27;map_a0212870c1f5eb80d35e299e87dd9ce7&#x27;, {\n",
              "        center: [22.6273, 120.314],\n",
              "        zoom: 16,\n",
              "        maxBounds: bounds,\n",
              "        layers: [],\n",
              "        worldCopyJump: false,\n",
              "        crs: L.CRS.EPSG3857,\n",
              "        zoomControl: true,\n",
              "        });\n",
              "\n",
              "\n",
              "    \n",
              "    var tile_layer_7fba5edb2e56faf351b3d3a84e9881e9 = L.tileLayer(\n",
              "        &#x27;https://{s}.tile.openstreetmap.org/{z}/{x}/{y}.png&#x27;,\n",
              "        {\n",
              "        &quot;attribution&quot;: null,\n",
              "        &quot;detectRetina&quot;: false,\n",
              "        &quot;maxNativeZoom&quot;: 18,\n",
              "        &quot;maxZoom&quot;: 18,\n",
              "        &quot;minZoom&quot;: 0,\n",
              "        &quot;noWrap&quot;: false,\n",
              "        &quot;opacity&quot;: 1,\n",
              "        &quot;subdomains&quot;: &quot;abc&quot;,\n",
              "        &quot;tms&quot;: false\n",
              "}).addTo(map_a0212870c1f5eb80d35e299e87dd9ce7);\n",
              "    \n",
              "        var marker_d959d5cdc439b87a2ac0a89836dad32a = L.marker(\n",
              "            [22.6273, 120.314],\n",
              "            {\n",
              "                icon: new L.Icon.Default(),\n",
              "                }\n",
              "            ).addTo(map_a0212870c1f5eb80d35e299e87dd9ce7);\n",
              "        \n",
              "    \n",
              "            var popup_8a0a13a07b9815be6361b333953c7872 = L.popup({maxWidth: &#x27;100%&#x27;\n",
              "            \n",
              "            });\n",
              "\n",
              "            \n",
              "                var html_ff3d08184899017043c9436a05c64d64 = $(`&lt;div id=&quot;html_ff3d08184899017043c9436a05c64d64&quot; style=&quot;width: 100.0%; height: 100.0%;&quot;&gt;高雄市&lt;/div&gt;`)[0];\n",
              "                popup_8a0a13a07b9815be6361b333953c7872.setContent(html_ff3d08184899017043c9436a05c64d64);\n",
              "            \n",
              "\n",
              "            marker_d959d5cdc439b87a2ac0a89836dad32a.bindPopup(popup_8a0a13a07b9815be6361b333953c7872)\n",
              "            ;\n",
              "\n",
              "            \n",
              "        \n",
              "&lt;/script&gt;\" style=\"position:absolute;width:100%;height:100%;left:0;top:0;border:none !important;\" allowfullscreen webkitallowfullscreen mozallowfullscreen></iframe></div></div>"
            ]
          },
          "metadata": {},
          "execution_count": 34
        }
      ]
    },
    {
      "cell_type": "markdown",
      "source": [
        "### 使用geocoder查詢GPS座標"
      ],
      "metadata": {
        "id": "mtTOfMpFD7Jq"
      }
    },
    {
      "cell_type": "code",
      "source": [
        "!pip install geocoder"
      ],
      "metadata": {
        "id": "RIQsnFTuD5I5"
      },
      "execution_count": null,
      "outputs": []
    },
    {
      "cell_type": "code",
      "source": [
        "import geocoder"
      ],
      "metadata": {
        "id": "xdxEprZkEQ67"
      },
      "execution_count": null,
      "outputs": []
    },
    {
      "cell_type": "code",
      "source": [
        "test= geocoder.osm(\"台北市\").latlng\n",
        "type(test)"
      ],
      "metadata": {
        "id": "JnsNu0MeEUbk"
      },
      "execution_count": null,
      "outputs": []
    },
    {
      "cell_type": "markdown",
      "source": [
        "### 練習請畫出台北市中心點地圖"
      ],
      "metadata": {
        "id": "NwMe72OXEv3l"
      }
    },
    {
      "cell_type": "code",
      "source": [
        "lookup=\"台北市\"\n",
        "#lookup= input()\n",
        "locationpoint=geocoder.osm(lookup).latlng\n",
        "m = folium.Map(location=locationpoint, zoom_start=12)\n",
        "folium.Marker(locationpoint, popup=lookup).add_to(m)\n",
        "m"
      ],
      "metadata": {
        "id": "mo4BiG-VE6fc"
      },
      "execution_count": null,
      "outputs": []
    },
    {
      "cell_type": "code",
      "source": [
        "def drawmap(lookup):\n",
        "  locationpoint=geocoder.osm(lookup).latlng\n",
        "  m = folium.Map(location=locationpoint, zoom_start=16)\n",
        "  folium.Marker(locationpoint, popup=lookup).add_to(m)\n",
        "  return m"
      ],
      "metadata": {
        "id": "d4TQ3QLeHkF7"
      },
      "execution_count": null,
      "outputs": []
    },
    {
      "cell_type": "code",
      "source": [
        "drawmap(\"文藻外語大學\")"
      ],
      "metadata": {
        "id": "F0PXQYj3HsPs"
      },
      "execution_count": null,
      "outputs": []
    },
    {
      "cell_type": "markdown",
      "source": [
        "##練習 到政府資料開放平台，下載北市U-Bike資料到地圖上\n",
        "\n",
        "https://data.gov.tw/dataset/137993\n",
        "https://tcgbusfs.blob.core.windows.net/dotapp/youbike/v2/youbike_immediate.json"
      ],
      "metadata": {
        "id": "KZJQf-LJImSj"
      }
    },
    {
      "cell_type": "code",
      "source": [
        "import requests"
      ],
      "metadata": {
        "id": "OnQopNs6JUyb"
      },
      "execution_count": null,
      "outputs": []
    },
    {
      "cell_type": "code",
      "source": [
        "url = \"https://tcgbusfs.blob.core.windows.net/dotapp/youbike/v2/youbike_immediate.json\""
      ],
      "metadata": {
        "id": "3FtmHZHtJdGQ"
      },
      "execution_count": null,
      "outputs": []
    },
    {
      "cell_type": "code",
      "source": [
        "data = requests.get(url).json()"
      ],
      "metadata": {
        "id": "xYnQbfTbJihg"
      },
      "execution_count": null,
      "outputs": []
    },
    {
      "cell_type": "code",
      "source": [
        "len(data)"
      ],
      "metadata": {
        "id": "ijYyJLguJuHu"
      },
      "execution_count": null,
      "outputs": []
    },
    {
      "cell_type": "code",
      "source": [
        "data[0]"
      ],
      "metadata": {
        "id": "BWVSdfa7Jxid"
      },
      "execution_count": null,
      "outputs": []
    },
    {
      "cell_type": "code",
      "source": [
        "for i in data:\n",
        "  print(f\"{i['sna'][11:]} ==>({i['lat']},{i['lng']})\")"
      ],
      "metadata": {
        "id": "tk0nWE4RbAqH"
      },
      "execution_count": null,
      "outputs": []
    },
    {
      "cell_type": "code",
      "source": [
        "def listout(myDa):\n",
        "  x=data[myDa]['lat']\n",
        "  y=data[myDa]['lng']\n",
        "  z=data[myDa]['sna']\n",
        "  print(str(x)+\" \"+str(y)+\"\\n\"+z[11:]) "
      ],
      "metadata": {
        "id": "xKgWK-GIKeY2"
      },
      "execution_count": null,
      "outputs": []
    },
    {
      "cell_type": "code",
      "source": [
        "for i in range(len(data)):\n",
        "  listout(i)\n"
      ],
      "metadata": {
        "id": "HpyzlfDDPN3P"
      },
      "execution_count": null,
      "outputs": []
    },
    {
      "cell_type": "markdown",
      "source": [
        "## 測試地圖上標示站名"
      ],
      "metadata": {
        "id": "y_UrbD3NVxfJ"
      }
    },
    {
      "cell_type": "code",
      "source": [
        "def listout(myDa):\n",
        "  x=data[myDa]['lat']\n",
        "  y=data[myDa]['lng']\n",
        "  z=data[myDa]['sna']\n",
        "  #print(str(x)+\" \"+str(y)+\"\\n\"+z[11:])\n",
        "  return x, y, z[11:] "
      ],
      "metadata": {
        "id": "SkISJuVISH7h"
      },
      "execution_count": null,
      "outputs": []
    },
    {
      "cell_type": "code",
      "source": [
        "listout(100)\n",
        "x"
      ],
      "metadata": {
        "id": "ykZR6Y_OR0-n"
      },
      "execution_count": null,
      "outputs": []
    },
    {
      "cell_type": "code",
      "source": [
        ""
      ],
      "metadata": {
        "id": "JFJjuvuOSkfa"
      },
      "execution_count": null,
      "outputs": []
    },
    {
      "cell_type": "markdown",
      "source": [
        ""
      ],
      "metadata": {
        "id": "4lTma9zbdsWn"
      }
    },
    {
      "cell_type": "code",
      "source": [
        "#listout(0)\n",
        "for i in data:\n",
        "  folium.Marker([i['lat'],i['lng']], popup= i['sna'], icon=folium.Icon(color=\"red\")).add_to(m) \n"
      ],
      "metadata": {
        "id": "gAA9uIDsSvIa"
      },
      "execution_count": null,
      "outputs": []
    },
    {
      "cell_type": "code",
      "source": [
        "m"
      ],
      "metadata": {
        "id": "qxHcV78ldgFI"
      },
      "execution_count": null,
      "outputs": []
    },
    {
      "cell_type": "markdown",
      "source": [
        "## python影像處理\n",
        "*pillow  https://pillow.readthedocs.io/en/stable/\n"
      ],
      "metadata": {
        "id": "MGtKDJ50e3qO"
      }
    },
    {
      "cell_type": "markdown",
      "source": [
        "## 載入需要模組"
      ],
      "metadata": {
        "id": "FoM0bLVwfe29"
      }
    },
    {
      "cell_type": "code",
      "source": [
        "from PIL import Image"
      ],
      "metadata": {
        "id": "T5GzgWmRfWNW"
      },
      "execution_count": 35,
      "outputs": []
    },
    {
      "cell_type": "markdown",
      "source": [
        "## 讀取圖形\n"
      ],
      "metadata": {
        "id": "ucXIDnuSfkDc"
      }
    },
    {
      "cell_type": "code",
      "source": [
        "im=Image.open(\"test.jpg\")"
      ],
      "metadata": {
        "id": "x5NXISQEfknS"
      },
      "execution_count": 36,
      "outputs": []
    },
    {
      "cell_type": "code",
      "source": [
        "im"
      ],
      "metadata": {
        "colab": {
          "base_uri": "https://localhost:8080/",
          "height": 323
        },
        "id": "NIyKdmqifz2g",
        "outputId": "660784b2-d9eb-4a8b-8a75-707006e86f8e"
      },
      "execution_count": 37,
      "outputs": [
        {
          "output_type": "execute_result",
          "data": {
            "text/plain": [
              "<PIL.JpegImagePlugin.JpegImageFile image mode=RGB size=416x306 at 0x7F51B1DEAFD0>"
            ],
            "image/png": "[encoded data removed]"
          },
          "metadata": {},
          "execution_count": 37
        }
      ]
    },
    {
      "cell_type": "markdown",
      "source": [
        "## 讀取圖片資訊"
      ],
      "metadata": {
        "id": "EydeAAL6gSrJ"
      }
    },
    {
      "cell_type": "code",
      "source": [
        "im.size"
      ],
      "metadata": {
        "colab": {
          "base_uri": "https://localhost:8080/"
        },
        "id": "d6FqlzZ_gXef",
        "outputId": "64b7aa63-bb8c-4ad4-bbea-19f1eaccf515"
      },
      "execution_count": 38,
      "outputs": [
        {
          "output_type": "execute_result",
          "data": {
            "text/plain": [
              "(416, 306)"
            ]
          },
          "metadata": {},
          "execution_count": 38
        }
      ]
    },
    {
      "cell_type": "code",
      "source": [
        "im.mode"
      ],
      "metadata": {
        "colab": {
          "base_uri": "https://localhost:8080/",
          "height": 36
        },
        "id": "GoMf2xaHgcy7",
        "outputId": "d11b3413-f512-4bb6-da1e-ef8aa48595d6"
      },
      "execution_count": 39,
      "outputs": [
        {
          "output_type": "execute_result",
          "data": {
            "text/plain": [
              "'RGB'"
            ],
            "application/vnd.google.colaboratory.intrinsic+json": {
              "type": "string"
            }
          },
          "metadata": {},
          "execution_count": 39
        }
      ]
    },
    {
      "cell_type": "code",
      "source": [
        "im.format"
      ],
      "metadata": {
        "colab": {
          "base_uri": "https://localhost:8080/",
          "height": 36
        },
        "id": "afgupvtZgmMv",
        "outputId": "926da712-1a9e-414e-9759-fdc755064e66"
      },
      "execution_count": 40,
      "outputs": [
        {
          "output_type": "execute_result",
          "data": {
            "text/plain": [
              "'JPEG'"
            ],
            "application/vnd.google.colaboratory.intrinsic+json": {
              "type": "string"
            }
          },
          "metadata": {},
          "execution_count": 40
        }
      ]
    },
    {
      "cell_type": "markdown",
      "source": [
        "## 轉換成黑白"
      ],
      "metadata": {
        "id": "dFz2SiF0hH6e"
      }
    },
    {
      "cell_type": "code",
      "source": [
        "im_gray=im.convert(\"L\")"
      ],
      "metadata": {
        "id": "Wl-ZszVfhMwe"
      },
      "execution_count": 41,
      "outputs": []
    },
    {
      "cell_type": "code",
      "source": [
        "im_gray.save(\"testgray.jpg\")"
      ],
      "metadata": {
        "id": "N77c-Qe-hgzB"
      },
      "execution_count": 42,
      "outputs": []
    },
    {
      "cell_type": "markdown",
      "source": [
        "## 圖片縮放\n",
        "* resize\n",
        "  * Signature: im.resize(size, resample=3, box=None, reducing_gap=None)\n",
        "  * Docstring:\n",
        "Returns a resized copy of this image.\n",
        "\n",
        "  * :param size: The requested size in pixels, as a 2-tuple:\n",
        "   (width, height)\n",
        "* thumbnail\n",
        "  * Signature: im.thumbnail(size, resample=3, reducing_gap=2.0)\n",
        "  * :param size: Requested size.\n"
      ],
      "metadata": {
        "id": "5nDIy6hZjD2C"
      }
    },
    {
      "cell_type": "code",
      "source": [
        "im.size"
      ],
      "metadata": {
        "colab": {
          "base_uri": "https://localhost:8080/"
        },
        "id": "3kBFZyZhjXRt",
        "outputId": "90e3feaf-79a5-4d9a-9eaa-91a82429d580"
      },
      "execution_count": 43,
      "outputs": [
        {
          "output_type": "execute_result",
          "data": {
            "text/plain": [
              "(416, 306)"
            ]
          },
          "metadata": {},
          "execution_count": 43
        }
      ]
    },
    {
      "cell_type": "code",
      "source": [
        "im.resize((206,153)) "
      ],
      "metadata": {
        "colab": {
          "base_uri": "https://localhost:8080/",
          "height": 170
        },
        "id": "M-03thD2j-dH",
        "outputId": "076be88a-c93f-4502-ae83-4d29242a0168"
      },
      "execution_count": 44,
      "outputs": [
        {
          "output_type": "execute_result",
          "data": {
            "text/plain": [
              "<PIL.Image.Image image mode=RGB size=206x153 at 0x7F51B2A225D0>"
            ],
            "image/png": "[encoded data removed]"
          },
          "metadata": {},
          "execution_count": 44
        }
      ]
    },
    {
      "cell_type": "code",
      "source": [
        "im2=Image.open(\"5213.jpg\")"
      ],
      "metadata": {
        "id": "FFL5aWqzktmQ"
      },
      "execution_count": 45,
      "outputs": []
    },
    {
      "cell_type": "code",
      "source": [
        "im2.resize((233,321))"
      ],
      "metadata": {
        "colab": {
          "base_uri": "https://localhost:8080/",
          "height": 338
        },
        "id": "znYSf4JrlMJh",
        "outputId": "e1e2497f-1422-4b89-9dcf-9e61f9fa86a1"
      },
      "execution_count": 46,
      "outputs": [
        {
          "output_type": "execute_result",
          "data": {
            "text/plain": [
              "<PIL.Image.Image image mode=RGB size=233x321 at 0x7F51B1D7F350>"
            ],
            "image/png": "[encoded data removed]"
          },
          "metadata": {},
          "execution_count": 46
        }
      ]
    },
    {
      "cell_type": "code",
      "source": [
        "im2.size"
      ],
      "metadata": {
        "colab": {
          "base_uri": "https://localhost:8080/"
        },
        "id": "ChXVjZ2vlSlU",
        "outputId": "773f41a7-3771-4dc3-ac2c-cf2c9adfeec1"
      },
      "execution_count": 47,
      "outputs": [
        {
          "output_type": "execute_result",
          "data": {
            "text/plain": [
              "(1108, 1478)"
            ]
          },
          "metadata": {},
          "execution_count": 47
        }
      ]
    },
    {
      "cell_type": "code",
      "source": [
        "# width\n",
        "a=im.size[0]"
      ],
      "metadata": {
        "id": "rK6ii6Xmmhmh"
      },
      "execution_count": 48,
      "outputs": []
    },
    {
      "cell_type": "code",
      "source": [
        "# height\n",
        "b=im.size[1]"
      ],
      "metadata": {
        "id": "HnXcVkOvoZ7K"
      },
      "execution_count": 49,
      "outputs": []
    },
    {
      "cell_type": "code",
      "source": [
        "im2 = im.resize((a//4, b//4))  # // 整除為int"
      ],
      "metadata": {
        "id": "WzEbJ977o2c7"
      },
      "execution_count": 50,
      "outputs": []
    },
    {
      "cell_type": "code",
      "source": [
        "im2.size"
      ],
      "metadata": {
        "colab": {
          "base_uri": "https://localhost:8080/"
        },
        "id": "bGjm1UBQpeww",
        "outputId": "e750c1b5-8275-4f3a-be0d-86569321cbfd"
      },
      "execution_count": 51,
      "outputs": [
        {
          "output_type": "execute_result",
          "data": {
            "text/plain": [
              "(104, 76)"
            ]
          },
          "metadata": {},
          "execution_count": 51
        }
      ]
    },
    {
      "cell_type": "markdown",
      "source": [
        "## thumbnail 依照原圖比例縮放"
      ],
      "metadata": {
        "id": "hQplZlnSq21L"
      }
    },
    {
      "cell_type": "code",
      "source": [
        "im.thumbnail?"
      ],
      "metadata": {
        "id": "7QwLhsFUqAGd"
      },
      "execution_count": 52,
      "outputs": []
    },
    {
      "cell_type": "code",
      "source": [
        "im3 = im2.copy()"
      ],
      "metadata": {
        "id": "OxAA2IMNqSys"
      },
      "execution_count": 53,
      "outputs": []
    },
    {
      "cell_type": "code",
      "source": [
        "im3.thumbnail((100,80))"
      ],
      "metadata": {
        "id": "dK0b8blEqeRm"
      },
      "execution_count": 54,
      "outputs": []
    },
    {
      "cell_type": "code",
      "source": [
        "im3"
      ],
      "metadata": {
        "colab": {
          "base_uri": "https://localhost:8080/",
          "height": 90
        },
        "id": "3DlOnnCdqnow",
        "outputId": "d0b68aeb-aad1-4448-fc16-1eec1c31acc6"
      },
      "execution_count": 55,
      "outputs": [
        {
          "output_type": "execute_result",
          "data": {
            "text/plain": [
              "<PIL.Image.Image image mode=RGB size=100x73 at 0x7F51B1D775D0>"
            ],
            "image/png": "[encoded data removed]"
          },
          "metadata": {},
          "execution_count": 55
        }
      ]
    },
    {
      "cell_type": "markdown",
      "source": [
        "## 分離&合併色層"
      ],
      "metadata": {
        "id": "l_zEfOIgrqnK"
      }
    },
    {
      "cell_type": "code",
      "source": [
        "r,g,b=im3.split()\n",
        "im4 = Image.merge(\"RGB\", (b, g, r))"
      ],
      "metadata": {
        "id": "-boagiYIr0Qm"
      },
      "execution_count": 56,
      "outputs": []
    },
    {
      "cell_type": "code",
      "source": [
        "im4"
      ],
      "metadata": {
        "colab": {
          "base_uri": "https://localhost:8080/",
          "height": 90
        },
        "id": "mp5IsrCDsxJy",
        "outputId": "fb8353a7-2ad3-4ba2-8fa2-8fdb60f5236a"
      },
      "execution_count": 57,
      "outputs": [
        {
          "output_type": "execute_result",
          "data": {
            "text/plain": [
              "<PIL.Image.Image image mode=RGB size=100x73 at 0x7F51B050D810>"
            ],
            "image/png": "[encoded data removed]"
          },
          "metadata": {},
          "execution_count": 57
        }
      ]
    },
    {
      "cell_type": "markdown",
      "source": [
        "## 圖片旋轉\n",
        "* transpose\n",
        "```\n",
        "out = im.transpose(Image.FLIP_LEFT_RIGHT)\n",
        "out = im.transpose(Image.FLIP_TOP_BOTTOM)\n",
        "out = im.transpose(Image.ROTATE_90)\n",
        "out = im.transpose(Image.ROTATE_180)\n",
        "out = im.transpose(Image.ROTATE_270)\n",
        "\n",
        "```\n",
        "* rotate\n"
      ],
      "metadata": {
        "id": "uSIVP6vZtTKl"
      }
    },
    {
      "cell_type": "code",
      "source": [
        "im3.transpose?"
      ],
      "metadata": {
        "id": "TuRvGmzAu5ru"
      },
      "execution_count": 58,
      "outputs": []
    },
    {
      "cell_type": "code",
      "source": [
        "im3.transpose(Image.FLIP_LEFT_RIGHT)"
      ],
      "metadata": {
        "colab": {
          "base_uri": "https://localhost:8080/",
          "height": 90
        },
        "id": "m17Cxk_Yt4Su",
        "outputId": "b2d528e6-9eaa-4e39-b8dd-344329af0b2a"
      },
      "execution_count": 59,
      "outputs": [
        {
          "output_type": "execute_result",
          "data": {
            "text/plain": [
              "<PIL.Image.Image image mode=RGB size=100x73 at 0x7F51B0525ED0>"
            ],
            "image/png": "[encoded data removed]"
          },
          "metadata": {},
          "execution_count": 59
        }
      ]
    },
    {
      "cell_type": "code",
      "source": [
        "im3.rotate?"
      ],
      "metadata": {
        "id": "Tv0pSW0gvE2t"
      },
      "execution_count": 60,
      "outputs": []
    },
    {
      "cell_type": "code",
      "source": [
        "im3.rotate(45)"
      ],
      "metadata": {
        "colab": {
          "base_uri": "https://localhost:8080/",
          "height": 90
        },
        "id": "yZ1yAY5svQkc",
        "outputId": "6cc5f279-b0cc-422a-fdb7-25e3257ad7c6"
      },
      "execution_count": 61,
      "outputs": [
        {
          "output_type": "execute_result",
          "data": {
            "text/plain": [
              "<PIL.Image.Image image mode=RGB size=100x73 at 0x7F51B052E1D0>"
            ],
            "image/png": "[encoded data removed]"
          },
          "metadata": {},
          "execution_count": 61
        }
      ]
    },
    {
      "cell_type": "code",
      "source": [
        "im3.rotate(45, expand=True, fillcolor=\"green\")"
      ],
      "metadata": {
        "colab": {
          "base_uri": "https://localhost:8080/",
          "height": 140
        },
        "id": "ur6zcHlnxItZ",
        "outputId": "e142770a-e413-4b1c-f308-985d105fd5d7"
      },
      "execution_count": 62,
      "outputs": [
        {
          "output_type": "execute_result",
          "data": {
            "text/plain": [
              "<PIL.Image.Image image mode=RGB size=124x123 at 0x7F51B052E790>"
            ],
            "image/png": "[encoded data removed]"
          },
          "metadata": {},
          "execution_count": 62
        }
      ]
    },
    {
      "cell_type": "markdown",
      "source": [
        "## 貼圖"
      ],
      "metadata": {
        "id": "7fxBRitV0cBx"
      }
    },
    {
      "cell_type": "code",
      "source": [
        "im2.size"
      ],
      "metadata": {
        "colab": {
          "base_uri": "https://localhost:8080/"
        },
        "id": "9SjTbjEo0ftv",
        "outputId": "c8b9e9ec-4410-40fc-84e3-8a04ff7b83c1"
      },
      "execution_count": 63,
      "outputs": [
        {
          "output_type": "execute_result",
          "data": {
            "text/plain": [
              "(104, 76)"
            ]
          },
          "metadata": {},
          "execution_count": 63
        }
      ]
    },
    {
      "cell_type": "code",
      "source": [
        "im4.size"
      ],
      "metadata": {
        "colab": {
          "base_uri": "https://localhost:8080/"
        },
        "id": "voaC_Qw606p8",
        "outputId": "1f1ae18c-33dc-4586-8561-76ff8a26507e"
      },
      "execution_count": 64,
      "outputs": [
        {
          "output_type": "execute_result",
          "data": {
            "text/plain": [
              "(100, 73)"
            ]
          },
          "metadata": {},
          "execution_count": 64
        }
      ]
    },
    {
      "cell_type": "code",
      "source": [
        "im2.paste?"
      ],
      "metadata": {
        "id": "TsGfaS8D0-C_"
      },
      "execution_count": 65,
      "outputs": []
    },
    {
      "cell_type": "code",
      "source": [
        "im5 = im2.copy()"
      ],
      "metadata": {
        "id": "LChw6fUQ1FNw"
      },
      "execution_count": 66,
      "outputs": []
    },
    {
      "cell_type": "code",
      "source": [
        "im5.paste(im4,(100, 100))"
      ],
      "metadata": {
        "id": "kQSPM0W61QJl"
      },
      "execution_count": 67,
      "outputs": []
    },
    {
      "cell_type": "code",
      "source": [
        "im5"
      ],
      "metadata": {
        "colab": {
          "base_uri": "https://localhost:8080/",
          "height": 93
        },
        "id": "KxyJEm7V1aFB",
        "outputId": "4aa064fd-918e-46dd-a232-66399ff5a601"
      },
      "execution_count": 68,
      "outputs": [
        {
          "output_type": "execute_result",
          "data": {
            "text/plain": [
              "<PIL.Image.Image image mode=RGB size=104x76 at 0x7F51B04CD4D0>"
            ],
            "image/png": "[encoded data removed]"
          },
          "metadata": {},
          "execution_count": 68
        }
      ]
    },
    {
      "cell_type": "markdown",
      "source": [
        "## 製作QR code\n",
        "https://pypi.org/project/qrcode/"
      ],
      "metadata": {
        "id": "ZaMCKps51oQj"
      }
    },
    {
      "cell_type": "code",
      "source": [
        "!pip install qrcode"
      ],
      "metadata": {
        "colab": {
          "base_uri": "https://localhost:8080/"
        },
        "id": "GxxE_IfK1rth",
        "outputId": "47ebb7b3-92cb-4cc6-b665-83b673e949cc"
      },
      "execution_count": 69,
      "outputs": [
        {
          "output_type": "stream",
          "name": "stdout",
          "text": [
            "Looking in indexes: https://pypi.org/simple, https://us-python.pkg.dev/colab-wheels/public/simple/\n",
            "Requirement already satisfied: qrcode in /usr/local/lib/python3.7/dist-packages (7.3.1)\n"
          ]
        }
      ]
    },
    {
      "cell_type": "code",
      "source": [
        "import qrcode\n",
        "img=qrcode.make(\"http://lasertek.com.tw/website/home/index.php\")\n",
        "img.save(\"lasertek.png\")"
      ],
      "metadata": {
        "id": "kxKoK0ew2RDw"
      },
      "execution_count": 70,
      "outputs": []
    },
    {
      "cell_type": "code",
      "source": [
        "im6=Image.open('lasertek.png')"
      ],
      "metadata": {
        "id": "OKHg42Oj2ppu"
      },
      "execution_count": 71,
      "outputs": []
    },
    {
      "cell_type": "code",
      "source": [
        "im6.resize((120,120))"
      ],
      "metadata": {
        "colab": {
          "base_uri": "https://localhost:8080/",
          "height": 137
        },
        "id": "yuwY0_X04fZv",
        "outputId": "1eb9daf9-50e0-4a95-d397-4addb806ddfb"
      },
      "execution_count": 72,
      "outputs": [
        {
          "output_type": "execute_result",
          "data": {
            "text/plain": [
              "<PIL.Image.Image image mode=1 size=120x120 at 0x7F51B0525650>"
            ],
            "image/png": "[encoded data removed]"
          },
          "metadata": {},
          "execution_count": 72
        }
      ]
    },
    {
      "cell_type": "code",
      "source": [
        "im7=im2.copy()"
      ],
      "metadata": {
        "id": "AVeB-Hg74nFQ"
      },
      "execution_count": 73,
      "outputs": []
    },
    {
      "cell_type": "code",
      "source": [
        "im7.paste(im6,(200,300))"
      ],
      "metadata": {
        "id": "rwbMjZwg4wVs"
      },
      "execution_count": 74,
      "outputs": []
    },
    {
      "cell_type": "code",
      "source": [
        "im7"
      ],
      "metadata": {
        "colab": {
          "base_uri": "https://localhost:8080/",
          "height": 93
        },
        "id": "JsBH76gP45Zv",
        "outputId": "dfd0f37c-7de8-4629-d2db-8c71f5b583ac"
      },
      "execution_count": 75,
      "outputs": [
        {
          "output_type": "execute_result",
          "data": {
            "text/plain": [
              "<PIL.Image.Image image mode=RGB size=104x76 at 0x7F51AFDEAF10>"
            ],
            "image/png": "[encoded data removed]"
          },
          "metadata": {},
          "execution_count": 75
        }
      ]
    },
    {
      "cell_type": "markdown",
      "source": [
        "## Home Work:\n",
        "用gradio做一個app, 輸入一張圖片，輸出加上QRcode的圖片\n"
      ],
      "metadata": {
        "id": "cHz9vdlF56PC"
      }
    },
    {
      "cell_type": "code",
      "source": [
        "!pip install gradio"
      ],
      "metadata": {
        "colab": {
          "base_uri": "https://localhost:8080/"
        },
        "id": "iUqvlBnW8m9l",
        "outputId": "e302c284-dd4a-4ef0-bfff-84acf8349371"
      },
      "execution_count": 76,
      "outputs": [
        {
          "output_type": "stream",
          "name": "stdout",
          "text": [
            "Looking in indexes: https://pypi.org/simple, https://us-python.pkg.dev/colab-wheels/public/simple/\n",
            "Requirement already satisfied: gradio in /usr/local/lib/python3.7/dist-packages (3.0.25)\n",
            "Requirement already satisfied: uvicorn in /usr/local/lib/python3.7/dist-packages (from gradio) (0.18.2)\n",
            "Requirement already satisfied: Jinja2 in /usr/local/lib/python3.7/dist-packages (from gradio) (2.11.3)\n",
            "Requirement already satisfied: fsspec in /usr/local/lib/python3.7/dist-packages (from gradio) (2022.5.0)\n",
            "Requirement already satisfied: orjson in /usr/local/lib/python3.7/dist-packages (from gradio) (3.7.7)\n",
            "Requirement already satisfied: pydub in /usr/local/lib/python3.7/dist-packages (from gradio) (0.25.1)\n",
            "Requirement already satisfied: pillow in /usr/local/lib/python3.7/dist-packages (from gradio) (7.1.2)\n",
            "Requirement already satisfied: h11<0.13,>=0.11 in /usr/local/lib/python3.7/dist-packages (from gradio) (0.12.0)\n",
            "Requirement already satisfied: aiohttp in /usr/local/lib/python3.7/dist-packages (from gradio) (3.8.1)\n",
            "Requirement already satisfied: python-multipart in /usr/local/lib/python3.7/dist-packages (from gradio) (0.0.5)\n",
            "Requirement already satisfied: requests in /usr/local/lib/python3.7/dist-packages (from gradio) (2.23.0)\n",
            "Requirement already satisfied: fastapi in /usr/local/lib/python3.7/dist-packages (from gradio) (0.79.0)\n",
            "Requirement already satisfied: pandas in /usr/local/lib/python3.7/dist-packages (from gradio) (1.3.5)\n",
            "Requirement already satisfied: httpx in /usr/local/lib/python3.7/dist-packages (from gradio) (0.23.0)\n",
            "Requirement already satisfied: pycryptodome in /usr/local/lib/python3.7/dist-packages (from gradio) (3.15.0)\n",
            "Requirement already satisfied: ffmpy in /usr/local/lib/python3.7/dist-packages (from gradio) (0.3.0)\n",
            "Requirement already satisfied: markdown-it-py[linkify,plugins] in /usr/local/lib/python3.7/dist-packages (from gradio) (2.1.0)\n",
            "Requirement already satisfied: pydantic in /usr/local/lib/python3.7/dist-packages (from gradio) (1.8.2)\n",
            "Requirement already satisfied: matplotlib in /usr/local/lib/python3.7/dist-packages (from gradio) (3.2.2)\n",
            "Requirement already satisfied: numpy in /usr/local/lib/python3.7/dist-packages (from gradio) (1.21.6)\n",
            "Requirement already satisfied: analytics-python in /usr/local/lib/python3.7/dist-packages (from gradio) (1.4.0)\n",
            "Requirement already satisfied: paramiko in /usr/local/lib/python3.7/dist-packages (from gradio) (2.11.0)\n",
            "Requirement already satisfied: frozenlist>=1.1.1 in /usr/local/lib/python3.7/dist-packages (from aiohttp->gradio) (1.3.0)\n",
            "Requirement already satisfied: yarl<2.0,>=1.0 in /usr/local/lib/python3.7/dist-packages (from aiohttp->gradio) (1.7.2)\n",
            "Requirement already satisfied: attrs>=17.3.0 in /usr/local/lib/python3.7/dist-packages (from aiohttp->gradio) (21.4.0)\n",
            "Requirement already satisfied: multidict<7.0,>=4.5 in /usr/local/lib/python3.7/dist-packages (from aiohttp->gradio) (6.0.2)\n",
            "Requirement already satisfied: async-timeout<5.0,>=4.0.0a3 in /usr/local/lib/python3.7/dist-packages (from aiohttp->gradio) (4.0.2)\n",
            "Requirement already satisfied: aiosignal>=1.1.2 in /usr/local/lib/python3.7/dist-packages (from aiohttp->gradio) (1.2.0)\n",
            "Requirement already satisfied: asynctest==0.13.0 in /usr/local/lib/python3.7/dist-packages (from aiohttp->gradio) (0.13.0)\n",
            "Requirement already satisfied: charset-normalizer<3.0,>=2.0 in /usr/local/lib/python3.7/dist-packages (from aiohttp->gradio) (2.1.0)\n",
            "Requirement already satisfied: typing-extensions>=3.7.4 in /usr/local/lib/python3.7/dist-packages (from aiohttp->gradio) (4.1.1)\n",
            "Requirement already satisfied: idna>=2.0 in /usr/local/lib/python3.7/dist-packages (from yarl<2.0,>=1.0->aiohttp->gradio) (2.10)\n",
            "Requirement already satisfied: python-dateutil>2.1 in /usr/local/lib/python3.7/dist-packages (from analytics-python->gradio) (2.8.2)\n",
            "Requirement already satisfied: six>=1.5 in /usr/local/lib/python3.7/dist-packages (from analytics-python->gradio) (1.15.0)\n",
            "Requirement already satisfied: monotonic>=1.5 in /usr/local/lib/python3.7/dist-packages (from analytics-python->gradio) (1.6)\n",
            "Requirement already satisfied: backoff==1.10.0 in /usr/local/lib/python3.7/dist-packages (from analytics-python->gradio) (1.10.0)\n",
            "Requirement already satisfied: chardet<4,>=3.0.2 in /usr/local/lib/python3.7/dist-packages (from requests->gradio) (3.0.4)\n",
            "Requirement already satisfied: urllib3!=1.25.0,!=1.25.1,<1.26,>=1.21.1 in /usr/local/lib/python3.7/dist-packages (from requests->gradio) (1.24.3)\n",
            "Requirement already satisfied: certifi>=2017.4.17 in /usr/local/lib/python3.7/dist-packages (from requests->gradio) (2022.6.15)\n",
            "Requirement already satisfied: starlette==0.19.1 in /usr/local/lib/python3.7/dist-packages (from fastapi->gradio) (0.19.1)\n",
            "Requirement already satisfied: anyio<5,>=3.4.0 in /usr/local/lib/python3.7/dist-packages (from starlette==0.19.1->fastapi->gradio) (3.6.1)\n",
            "Requirement already satisfied: sniffio>=1.1 in /usr/local/lib/python3.7/dist-packages (from anyio<5,>=3.4.0->starlette==0.19.1->fastapi->gradio) (1.2.0)\n",
            "Requirement already satisfied: rfc3986[idna2008]<2,>=1.3 in /usr/local/lib/python3.7/dist-packages (from httpx->gradio) (1.5.0)\n",
            "Requirement already satisfied: httpcore<0.16.0,>=0.15.0 in /usr/local/lib/python3.7/dist-packages (from httpx->gradio) (0.15.0)\n",
            "Requirement already satisfied: MarkupSafe>=0.23 in /usr/local/lib/python3.7/dist-packages (from Jinja2->gradio) (2.0.1)\n",
            "Requirement already satisfied: mdurl~=0.1 in /usr/local/lib/python3.7/dist-packages (from markdown-it-py[linkify,plugins]->gradio) (0.1.1)\n",
            "Requirement already satisfied: mdit-py-plugins in /usr/local/lib/python3.7/dist-packages (from markdown-it-py[linkify,plugins]->gradio) (0.3.0)\n",
            "Requirement already satisfied: linkify-it-py~=1.0 in /usr/local/lib/python3.7/dist-packages (from markdown-it-py[linkify,plugins]->gradio) (1.0.3)\n",
            "Requirement already satisfied: uc-micro-py in /usr/local/lib/python3.7/dist-packages (from linkify-it-py~=1.0->markdown-it-py[linkify,plugins]->gradio) (1.0.1)\n",
            "Requirement already satisfied: kiwisolver>=1.0.1 in /usr/local/lib/python3.7/dist-packages (from matplotlib->gradio) (1.4.3)\n",
            "Requirement already satisfied: pyparsing!=2.0.4,!=2.1.2,!=2.1.6,>=2.0.1 in /usr/local/lib/python3.7/dist-packages (from matplotlib->gradio) (3.0.9)\n",
            "Requirement already satisfied: cycler>=0.10 in /usr/local/lib/python3.7/dist-packages (from matplotlib->gradio) (0.11.0)\n",
            "Requirement already satisfied: pytz>=2017.3 in /usr/local/lib/python3.7/dist-packages (from pandas->gradio) (2022.1)\n",
            "Requirement already satisfied: bcrypt>=3.1.3 in /usr/local/lib/python3.7/dist-packages (from paramiko->gradio) (3.2.2)\n",
            "Requirement already satisfied: pynacl>=1.0.1 in /usr/local/lib/python3.7/dist-packages (from paramiko->gradio) (1.5.0)\n",
            "Requirement already satisfied: cryptography>=2.5 in /usr/local/lib/python3.7/dist-packages (from paramiko->gradio) (37.0.4)\n",
            "Requirement already satisfied: cffi>=1.1 in /usr/local/lib/python3.7/dist-packages (from bcrypt>=3.1.3->paramiko->gradio) (1.15.1)\n",
            "Requirement already satisfied: pycparser in /usr/local/lib/python3.7/dist-packages (from cffi>=1.1->bcrypt>=3.1.3->paramiko->gradio) (2.21)\n",
            "Requirement already satisfied: click>=7.0 in /usr/local/lib/python3.7/dist-packages (from uvicorn->gradio) (7.1.2)\n"
          ]
        }
      ]
    },
    {
      "cell_type": "code",
      "source": [
        "import gradio as gr\n",
        "import os"
      ],
      "metadata": {
        "colab": {
          "base_uri": "https://localhost:8080/",
          "height": 485
        },
        "id": "Ao70DdCi8xxT",
        "outputId": "d95e2e65-b240-4b23-e085-1d3c67fce3bc"
      },
      "execution_count": 77,
      "outputs": [
        {
          "output_type": "error",
          "ename": "ImportError",
          "evalue": "ignored",
          "traceback": [
            "\u001b[0;31m---------------------------------------------------------------------------\u001b[0m",
            "\u001b[0;31mImportError\u001b[0m                               Traceback (most recent call last)",
            "\u001b[0;32m<ipython-input-77-d1ea49751fe3>\u001b[0m in \u001b[0;36m<module>\u001b[0;34m()\u001b[0m\n\u001b[0;32m----> 1\u001b[0;31m \u001b[0;32mimport\u001b[0m \u001b[0mgradio\u001b[0m \u001b[0;32mas\u001b[0m \u001b[0mgr\u001b[0m\u001b[0;34m\u001b[0m\u001b[0;34m\u001b[0m\u001b[0m\n\u001b[0m\u001b[1;32m      2\u001b[0m \u001b[0;32mimport\u001b[0m \u001b[0mos\u001b[0m\u001b[0;34m\u001b[0m\u001b[0;34m\u001b[0m\u001b[0m\n",
            "\u001b[0;32m/usr/local/lib/python3.7/dist-packages/gradio/__init__.py\u001b[0m in \u001b[0;36m<module>\u001b[0;34m()\u001b[0m\n\u001b[1;32m      1\u001b[0m \u001b[0;32mimport\u001b[0m \u001b[0mpkgutil\u001b[0m\u001b[0;34m\u001b[0m\u001b[0;34m\u001b[0m\u001b[0m\n\u001b[1;32m      2\u001b[0m \u001b[0;34m\u001b[0m\u001b[0m\n\u001b[0;32m----> 3\u001b[0;31m \u001b[0;32mimport\u001b[0m \u001b[0mgradio\u001b[0m\u001b[0;34m.\u001b[0m\u001b[0mcomponents\u001b[0m \u001b[0;32mas\u001b[0m \u001b[0mcomponents\u001b[0m\u001b[0;34m\u001b[0m\u001b[0;34m\u001b[0m\u001b[0m\n\u001b[0m\u001b[1;32m      4\u001b[0m \u001b[0;32mimport\u001b[0m \u001b[0mgradio\u001b[0m\u001b[0;34m.\u001b[0m\u001b[0minputs\u001b[0m \u001b[0;32mas\u001b[0m \u001b[0minputs\u001b[0m\u001b[0;34m\u001b[0m\u001b[0;34m\u001b[0m\u001b[0m\n\u001b[1;32m      5\u001b[0m \u001b[0;32mimport\u001b[0m \u001b[0mgradio\u001b[0m\u001b[0;34m.\u001b[0m\u001b[0moutputs\u001b[0m \u001b[0;32mas\u001b[0m \u001b[0moutputs\u001b[0m\u001b[0;34m\u001b[0m\u001b[0;34m\u001b[0m\u001b[0m\n",
            "\u001b[0;32m/usr/local/lib/python3.7/dist-packages/gradio/components.py\u001b[0m in \u001b[0;36m<module>\u001b[0;34m()\u001b[0m\n\u001b[1;32m     17\u001b[0m \u001b[0;32mfrom\u001b[0m \u001b[0mcopy\u001b[0m \u001b[0;32mimport\u001b[0m \u001b[0mdeepcopy\u001b[0m\u001b[0;34m\u001b[0m\u001b[0;34m\u001b[0m\u001b[0m\n\u001b[1;32m     18\u001b[0m \u001b[0;32mfrom\u001b[0m \u001b[0mtypes\u001b[0m \u001b[0;32mimport\u001b[0m \u001b[0mModuleType\u001b[0m\u001b[0;34m\u001b[0m\u001b[0;34m\u001b[0m\u001b[0m\n\u001b[0;32m---> 19\u001b[0;31m \u001b[0;32mfrom\u001b[0m \u001b[0mtyping\u001b[0m \u001b[0;32mimport\u001b[0m \u001b[0mAny\u001b[0m\u001b[0;34m,\u001b[0m \u001b[0mCallable\u001b[0m\u001b[0;34m,\u001b[0m \u001b[0mDict\u001b[0m\u001b[0;34m,\u001b[0m \u001b[0mList\u001b[0m\u001b[0;34m,\u001b[0m \u001b[0mOptional\u001b[0m\u001b[0;34m,\u001b[0m \u001b[0mTuple\u001b[0m\u001b[0;34m,\u001b[0m \u001b[0mTypedDict\u001b[0m\u001b[0;34m\u001b[0m\u001b[0;34m\u001b[0m\u001b[0m\n\u001b[0m\u001b[1;32m     20\u001b[0m \u001b[0;34m\u001b[0m\u001b[0m\n\u001b[1;32m     21\u001b[0m \u001b[0;32mimport\u001b[0m \u001b[0mmatplotlib\u001b[0m\u001b[0;34m.\u001b[0m\u001b[0mfigure\u001b[0m\u001b[0;34m\u001b[0m\u001b[0;34m\u001b[0m\u001b[0m\n",
            "\u001b[0;31mImportError\u001b[0m: cannot import name 'TypedDict' from 'typing' (/usr/lib/python3.7/typing.py)",
            "",
            "\u001b[0;31m---------------------------------------------------------------------------\u001b[0;32m\nNOTE: If your import is failing due to a missing package, you can\nmanually install dependencies using either !pip or !apt.\n\nTo view examples of installing some common dependencies, click the\n\"Open Examples\" button below.\n\u001b[0;31m---------------------------------------------------------------------------\u001b[0m\n"
          ],
          "errorDetails": {
            "actions": [
              {
                "action": "open_url",
                "actionText": "Open Examples",
                "url": "/notebooks/snippets/importing_libraries.ipynb"
              }
            ]
          }
        }
      ]
    },
    {
      "cell_type": "code",
      "source": [
        "# Hint\n",
        "\n",
        "def process(input):\n",
        "  r,g,b=im3.split()\n",
        "  return Image.merge(\"RGB\", (b, g, r))"
      ],
      "metadata": {
        "id": "1j72k_lc68c6"
      },
      "execution_count": 78,
      "outputs": []
    },
    {
      "cell_type": "code",
      "source": [
        "gradio.Interface(process, gradio.inputs.Image(type='pil'), gradio.outputs.Image(type='pil'), title=\"變色處理\").launch(share=True)"
      ],
      "metadata": {
        "id": "n6YKQOY47oDy"
      },
      "execution_count": null,
      "outputs": []
    },
    {
      "cell_type": "code",
      "source": [
        "from PIL import ImageDraw"
      ],
      "metadata": {
        "id": "aPC93Yuf-cvQ"
      },
      "execution_count": 79,
      "outputs": []
    },
    {
      "cell_type": "code",
      "source": [
        "im8=im2.copy()"
      ],
      "metadata": {
        "id": "5DJWjn-W-wnL"
      },
      "execution_count": 80,
      "outputs": []
    },
    {
      "cell_type": "code",
      "source": [
        "im9=ImageDraw.Draw(im8)"
      ],
      "metadata": {
        "id": "IlYN96agAR77"
      },
      "execution_count": 82,
      "outputs": []
    },
    {
      "cell_type": "code",
      "source": [
        "im9.text((10,10),\"Test My Text\",(255,0,0))"
      ],
      "metadata": {
        "id": "GVm9ZA0pAsm5"
      },
      "execution_count": 84,
      "outputs": []
    },
    {
      "cell_type": "code",
      "source": [
        "im8"
      ],
      "metadata": {
        "colab": {
          "base_uri": "https://localhost:8080/",
          "height": 93
        },
        "id": "M_S1NsQ6BA8u",
        "outputId": "d8efc561-0938-4b93-98b9-ac61c6f068d9"
      },
      "execution_count": 88,
      "outputs": [
        {
          "output_type": "execute_result",
          "data": {
            "text/plain": [
              "<PIL.Image.Image image mode=RGB size=104x76 at 0x7F51AFDC2590>"
            ],
            "image/png": "[encoded data removed]"
          },
          "metadata": {},
          "execution_count": 88
        }
      ]
    },
    {
      "cell_type": "code",
      "source": [
        "def hello(name):\n",
        "  \"\"\"印出使用說明\n",
        "  Test abc\n",
        "  print\n",
        "  \n",
        "  \n",
        "  \"\"\"\n",
        "  print(\"hello, \", name)"
      ],
      "metadata": {
        "id": "Oackt8SLwXG8"
      },
      "execution_count": 86,
      "outputs": []
    },
    {
      "cell_type": "code",
      "source": [
        "hello(\"My\")"
      ],
      "metadata": {
        "colab": {
          "base_uri": "https://localhost:8080/"
        },
        "id": "BQcU-Tzewl07",
        "outputId": "532727ee-7022-4907-fa3a-8bf9d148ea8a"
      },
      "execution_count": 87,
      "outputs": [
        {
          "output_type": "stream",
          "name": "stdout",
          "text": [
            "hello,  My\n"
          ]
        }
      ]
    }
  ]
}