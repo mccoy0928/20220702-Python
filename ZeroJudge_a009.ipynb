{
  "nbformat": 4,
  "nbformat_minor": 0,
  "metadata": {
    "colab": {
      "name": "ZeroJudge-a009.ipynb",
      "provenance": [],
      "collapsed_sections": [],
      "authorship_tag": "ABX9TyPS321uAWfwD8SLFKNKE5Cf",
      "include_colab_link": true
    },
    "kernelspec": {
      "name": "python3",
      "display_name": "Python 3"
    },
    "language_info": {
      "name": "python"
    }
  },
  "cells": [
    {
      "cell_type": "markdown",
      "metadata": {
        "id": "view-in-github",
        "colab_type": "text"
      },
      "source": [
        "<a href=\"https://colab.research.google.com/github/mccoy0928/20220702-Python/blob/main/ZeroJudge_a009.ipynb\" target=\"_parent\"><img src=\"https://colab.research.google.com/assets/colab-badge.svg\" alt=\"Open In Colab\"/></a>"
      ]
    },
    {
      "cell_type": "code",
      "execution_count": 1,
      "metadata": {
        "id": "6aaQKsrJwzXO"
      },
      "outputs": [],
      "source": [
        "import string"
      ]
    },
    {
      "cell_type": "code",
      "source": [
        "myStr=\"1JKJ'pz'{ol'{yhklthyr'vm'{ol'Jvu{yvs'Kh{h'Jvywvyh{pvu5.\""
      ],
      "metadata": {
        "id": "y7MiEQ07xDjJ"
      },
      "execution_count": 22,
      "outputs": []
    },
    {
      "cell_type": "code",
      "source": [
        "myStr2=\"I am a good guy.\""
      ],
      "metadata": {
        "id": "Db-AdXygycWi"
      },
      "execution_count": 24,
      "outputs": []
    },
    {
      "cell_type": "code",
      "source": [
        "ord('C')"
      ],
      "metadata": {
        "colab": {
          "base_uri": "https://localhost:8080/"
        },
        "id": "NClHMDngxlQa",
        "outputId": "cf7e0f42-9499-4b2e-de60-3fedf93b9346"
      },
      "execution_count": 11,
      "outputs": [
        {
          "output_type": "execute_result",
          "data": {
            "text/plain": [
              "67"
            ]
          },
          "metadata": {},
          "execution_count": 11
        }
      ]
    },
    {
      "cell_type": "code",
      "source": [
        "for i in myStr:\n",
        "  print(i, end=\"\")\n",
        "print()\n",
        "k = -7\n",
        "for i in myStr:  \n",
        "  print(chr(ord(i)+k), end=\"\")"
      ],
      "metadata": {
        "colab": {
          "base_uri": "https://localhost:8080/"
        },
        "id": "PeYWOZCAxLzT",
        "outputId": "3b79f453-cdc2-4678-8768-e65bd8f747f9"
      },
      "execution_count": 23,
      "outputs": [
        {
          "output_type": "stream",
          "name": "stdout",
          "text": [
            "1JKJ'pz'{ol'{yhklthyr'vm'{ol'Jvu{yvs'Kh{h'Jvywvyh{pvu5.\n",
            "*CDC is the trademark of the Control Data Corporation.'"
          ]
        }
      ]
    },
    {
      "cell_type": "code",
      "source": [
        "for i in myStr2:\n",
        "  print(i, end=\"\")\n",
        "print()\n",
        "k = 7\n",
        "for i in myStr2:  \n",
        "  print(chr(ord(i)+k), end=\"\")"
      ],
      "metadata": {
        "colab": {
          "base_uri": "https://localhost:8080/"
        },
        "id": "vVM735tHyiUq",
        "outputId": "5e5233c1-765d-4708-9718-fdb93466c97a"
      },
      "execution_count": 25,
      "outputs": [
        {
          "output_type": "stream",
          "name": "stdout",
          "text": [
            "I am a good guy.\n",
            "P'ht'h'nvvk'n|5"
          ]
        }
      ]
    },
    {
      "cell_type": "code",
      "source": [
        "for i in myStr2:\n",
        "  print(i, end=\"\")\n",
        "print()\n",
        "k = 7\n",
        "for i in myStr2:  \n",
        "  #print(chr(ord(i)+k), end=\"\")\n",
        "  print(chr(ord(i)+k), end=\"\")"
      ],
      "metadata": {
        "colab": {
          "base_uri": "https://localhost:8080/"
        },
        "id": "vHZmuA1iykcr",
        "outputId": "2f4e65e7-0bc7-4116-9b6b-af3f7d820ff1"
      },
      "execution_count": 18,
      "outputs": [
        {
          "output_type": "stream",
          "name": "stdout",
          "text": [
            "*IBM is a trademark of the International Business Machine Corporation.\n",
            "1PIT'pz'h'{yhklthyr'vm'{ol'Pu{lyuh{pvuhs'I|zpulzz'Thjopul'Jvywvyh{pvu5"
          ]
        }
      ]
    }
  ]
}