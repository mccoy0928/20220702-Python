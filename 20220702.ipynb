{
  "nbformat": 4,
  "nbformat_minor": 0,
  "metadata": {
    "colab": {
      "name": "20220702.ipynb",
      "provenance": [],
      "authorship_tag": "ABX9TyM+9pQ2ftpxCyDuabcKaEPh",
      "include_colab_link": true
    },
    "kernelspec": {
      "name": "python3",
      "display_name": "Python 3"
    },
    "language_info": {
      "name": "python"
    },
    "accelerator": "TPU",
    "gpuClass": "standard"
  },
  "cells": [
    {
      "cell_type": "markdown",
      "metadata": {
        "id": "view-in-github",
        "colab_type": "text"
      },
      "source": [
        "<a href=\"https://colab.research.google.com/github/mccoy0928/20220702-Python/blob/main/20220702.ipynb\" target=\"_parent\"><img src=\"https://colab.research.google.com/assets/colab-badge.svg\" alt=\"Open In Colab\"/></a>"
      ]
    },
    {
      "cell_type": "markdown",
      "source": [
        ""
      ],
      "metadata": {
        "id": "ZOVTi6cS5x3j"
      }
    },
    {
      "cell_type": "markdown",
      "source": [
        "#20220702 人工智慧應用班\n"
      ],
      "metadata": {
        "id": "w3gIW1iX50J6"
      }
    },
    {
      "cell_type": "code",
      "execution_count": 4,
      "metadata": {
        "colab": {
          "base_uri": "https://localhost:8080/"
        },
        "id": "HlstCHwLynej",
        "outputId": "d9ac2f7e-9449-487d-be20-f9f1bdf0adc6"
      },
      "outputs": [
        {
          "output_type": "stream",
          "name": "stdout",
          "text": [
            "Testing, Hello\n"
          ]
        }
      ],
      "source": [
        "print(\"Testing, Hello\")"
      ]
    },
    {
      "cell_type": "markdown",
      "source": [
        "# 畫金字塔"
      ],
      "metadata": {
        "id": "3YXWMwhA6KKh"
      }
    },
    {
      "cell_type": "code",
      "source": [
        "for i in range(5):\n",
        "  print(i)"
      ],
      "metadata": {
        "colab": {
          "base_uri": "https://localhost:8080/"
        },
        "id": "7vqzMEXo8RdV",
        "outputId": "df0c9f5f-305c-4e64-8606-15f635a34c9c"
      },
      "execution_count": 7,
      "outputs": [
        {
          "output_type": "stream",
          "name": "stdout",
          "text": [
            "0\n",
            "1\n",
            "2\n",
            "3\n",
            "4\n"
          ]
        }
      ]
    },
    {
      "cell_type": "code",
      "source": [
        "for i in range(5):\n",
        "  print(\"*\"*i)"
      ],
      "metadata": {
        "colab": {
          "base_uri": "https://localhost:8080/"
        },
        "id": "MhXR5Voc8ZJB",
        "outputId": "0fac0e5f-a429-4273-a6cc-ab03331e2527"
      },
      "execution_count": 8,
      "outputs": [
        {
          "output_type": "stream",
          "name": "stdout",
          "text": [
            "\n",
            "*\n",
            "**\n",
            "***\n",
            "****\n"
          ]
        }
      ]
    },
    {
      "cell_type": "code",
      "source": [
        "for i in range(5):\n",
        "  print(\" \"*(5-i)+(2*i+1)*\"*\")"
      ],
      "metadata": {
        "colab": {
          "base_uri": "https://localhost:8080/"
        },
        "id": "LERFDhbR6nx2",
        "outputId": "30c8a164-6512-4ef8-9e73-ef735ffad3a0"
      },
      "execution_count": 6,
      "outputs": [
        {
          "output_type": "stream",
          "name": "stdout",
          "text": [
            "     *\n",
            "    ***\n",
            "   *****\n",
            "  *******\n",
            " *********\n"
          ]
        }
      ]
    },
    {
      "cell_type": "markdown",
      "source": [
        "# 變數"
      ],
      "metadata": {
        "id": "8NwsndxX6JdE"
      }
    },
    {
      "cell_type": "markdown",
      "source": [
        ""
      ],
      "metadata": {
        "id": "J_4Z_q9SzeM5"
      }
    }
  ]
}